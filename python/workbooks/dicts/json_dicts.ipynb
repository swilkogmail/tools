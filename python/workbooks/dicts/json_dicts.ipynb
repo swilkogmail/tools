{
 "cells": [
  {
   "cell_type": "code",
   "execution_count": 14,
   "metadata": {},
   "outputs": [],
   "source": [
    "import json\n",
    "s_dictionary = '{\"dml-bucket\":\"a205384-s3-preprod-config-us-east-1-uat\",\"load_queue\":\"https://sqs.us-east-1.amazonaws.com/368476372619/a205384-sqs-preprod-primary-mwaa-batch-notify-us-east-1-uat.fifo\",\"sns_topic_arn\":\"arn:aws:sns:us-east-1:368476372619:a205384-sns-preprod-mwaa-batch-progress-us-east-1-uat\",\"login\":\"a205384_dep_eaw_preprod_mds_svc_user\",\"schema\":\"A205384_DEP_EAW_PREPROD\",\"warehouse\":\"A205384_DEP_EAW_PREPROD_MDS_WH\",\"region\":\"us-east-1\",\"host\":\"https://a206448_prod.us-east-1.snowflakecomputing.com\",\"account\":\"a206448_prod\",\"database\":\"MYDATASPACE\"}'\n",
    "\n",
    "def get_var_from_secrets(varName):\n",
    "    secret_d = json.loads(s_dictionary)\n",
    "    varVal = secret_d[varName]\n",
    "    return varVal"
   ]
  },
  {
   "cell_type": "code",
   "execution_count": 15,
   "metadata": {},
   "outputs": [
    {
     "data": {
      "text/plain": [
       "'a205384-s3-preprod-config-us-east-1-uat'"
      ]
     },
     "execution_count": 15,
     "metadata": {},
     "output_type": "execute_result"
    }
   ],
   "source": [
    "my_var = get_var_from_secrets('dml-bucket')\n",
    "my_var"
   ]
  },
  {
   "cell_type": "code",
   "execution_count": 3,
   "metadata": {},
   "outputs": [
    {
     "name": "stdout",
     "output_type": "stream",
     "text": [
      "world\n",
      "world\n",
      "1\n",
      "2\n"
     ]
    }
   ],
   "source": [
    "my_dict = {1:'hello',2:'world'}\n",
    "\n",
    "for val in my_dict.values():\n",
    "    print(vals)\n",
    "\n",
    "for key in my_dict.keys():\n",
    "    print(key)"
   ]
  },
  {
   "cell_type": "code",
   "execution_count": 5,
   "metadata": {},
   "outputs": [
    {
     "name": "stdout",
     "output_type": "stream",
     "text": [
      "3\n"
     ]
    }
   ],
   "source": [
    "import math\n",
    " \n",
    "x = -1.7\n",
    "print(-abs(math.floor(x) + math.ceil(x)))"
   ]
  },
  {
   "cell_type": "code",
   "execution_count": 6,
   "metadata": {},
   "outputs": [
    {
     "name": "stdout",
     "output_type": "stream",
     "text": [
      "True False\n"
     ]
    }
   ],
   "source": [
    "x = True\n",
    "y = False\n",
    "x = x or y\n",
    "y = x and y\n",
    "x = x or y\n",
    "print(x, y)"
   ]
  },
  {
   "cell_type": "code",
   "execution_count": 7,
   "metadata": {},
   "outputs": [
    {
     "name": "stdout",
     "output_type": "stream",
     "text": [
      "2\n"
     ]
    }
   ],
   "source": [
    "data = 'abbabadaadbbaccabc'\n",
    "print(data.count('ab', 1))"
   ]
  },
  {
   "cell_type": "code",
   "execution_count": 8,
   "metadata": {},
   "outputs": [
    {
     "name": "stdout",
     "output_type": "stream",
     "text": [
      "PeterWellert\n"
     ]
    }
   ],
   "source": [
    "print('Peter' 'Wellert')"
   ]
  },
  {
   "cell_type": "code",
   "execution_count": 9,
   "metadata": {},
   "outputs": [
    {
     "name": "stdout",
     "output_type": "stream",
     "text": [
      "[\"I'm\", 'gonna', 'make', 'him', 'an', 'offer', 'he', \"can't\", 'refuse.']\n"
     ]
    }
   ],
   "source": [
    "with open('data.txt', 'w') as f:\n",
    "    f.write(\"I'm gonna make him an offer he can't refuse.\")\n",
    " \n",
    "with open('data.txt', 'r') as f:\n",
    "    data = f.readlines()\n",
    "    for line in data:\n",
    "        words = line.split()\n",
    "        print(words)"
   ]
  },
  {
   "attachments": {},
   "cell_type": "markdown",
   "metadata": {},
   "source": [
    "no . and .. are returned from listdir()"
   ]
  },
  {
   "cell_type": "code",
   "execution_count": 10,
   "metadata": {},
   "outputs": [
    {
     "name": "stdout",
     "output_type": "stream",
     "text": [
      "['json_dicts.ipynb', 'data.txt']\n"
     ]
    }
   ],
   "source": [
    "import os\n",
    "print(os.listdir())"
   ]
  }
 ],
 "metadata": {
  "kernelspec": {
   "display_name": "Python 3",
   "language": "python",
   "name": "python3"
  },
  "language_info": {
   "codemirror_mode": {
    "name": "ipython",
    "version": 3
   },
   "file_extension": ".py",
   "mimetype": "text/x-python",
   "name": "python",
   "nbconvert_exporter": "python",
   "pygments_lexer": "ipython3",
   "version": "3.9.16"
  },
  "orig_nbformat": 4
 },
 "nbformat": 4,
 "nbformat_minor": 2
}
