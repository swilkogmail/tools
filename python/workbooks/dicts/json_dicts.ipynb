{
 "cells": [
  {
   "cell_type": "code",
   "execution_count": 14,
   "metadata": {},
   "outputs": [],
   "source": [
    "import json\n",
    "s_dictionary = '{\"dml-bucket\":\"a205384-s3-preprod-config-us-east-1-uat\",\"load_queue\":\"https://sqs.us-east-1.amazonaws.com/368476372619/a205384-sqs-preprod-primary-mwaa-batch-notify-us-east-1-uat.fifo\",\"sns_topic_arn\":\"arn:aws:sns:us-east-1:368476372619:a205384-sns-preprod-mwaa-batch-progress-us-east-1-uat\",\"login\":\"a205384_dep_eaw_preprod_mds_svc_user\",\"schema\":\"A205384_DEP_EAW_PREPROD\",\"warehouse\":\"A205384_DEP_EAW_PREPROD_MDS_WH\",\"region\":\"us-east-1\",\"host\":\"https://a206448_prod.us-east-1.snowflakecomputing.com\",\"account\":\"a206448_prod\",\"database\":\"MYDATASPACE\"}'\n",
    "\n",
    "def get_var_from_secrets(varName):\n",
    "    secret_d = json.loads(s_dictionary)\n",
    "    varVal = secret_d[varName]\n",
    "    return varVal"
   ]
  },
  {
   "cell_type": "code",
   "execution_count": 15,
   "metadata": {},
   "outputs": [
    {
     "data": {
      "text/plain": [
       "'a205384-s3-preprod-config-us-east-1-uat'"
      ]
     },
     "execution_count": 15,
     "metadata": {},
     "output_type": "execute_result"
    }
   ],
   "source": [
    "my_var = get_var_from_secrets('dml-bucket')\n",
    "my_var"
   ]
  },
  {
   "cell_type": "code",
   "execution_count": 3,
   "metadata": {},
   "outputs": [
    {
     "name": "stdout",
     "output_type": "stream",
     "text": [
      "world\n",
      "world\n",
      "1\n",
      "2\n"
     ]
    }
   ],
   "source": [
    "my_dict = {1:'hello',2:'world'}\n",
    "\n",
    "for val in my_dict.values():\n",
    "    print(vals)\n",
    "\n",
    "for key in my_dict.keys():\n",
    "    print(key)"
   ]
  },
  {
   "cell_type": "code",
   "execution_count": 5,
   "metadata": {},
   "outputs": [
    {
     "name": "stdout",
     "output_type": "stream",
     "text": [
      "3\n"
     ]
    }
   ],
   "source": [
    "import math\n",
    " \n",
    "x = -1.7\n",
    "print(-abs(math.floor(x) + math.ceil(x)))"
   ]
  },
  {
   "cell_type": "code",
   "execution_count": 6,
   "metadata": {},
   "outputs": [
    {
     "name": "stdout",
     "output_type": "stream",
     "text": [
      "True False\n"
     ]
    }
   ],
   "source": [
    "x = True\n",
    "y = False\n",
    "x = x or y\n",
    "y = x and y\n",
    "x = x or y\n",
    "print(x, y)"
   ]
  },
  {
   "cell_type": "code",
   "execution_count": 7,
   "metadata": {},
   "outputs": [
    {
     "name": "stdout",
     "output_type": "stream",
     "text": [
      "2\n"
     ]
    }
   ],
   "source": [
    "data = 'abbabadaadbbaccabc'\n",
    "print(data.count('ab', 1))"
   ]
  },
  {
   "cell_type": "code",
   "execution_count": 8,
   "metadata": {},
   "outputs": [
    {
     "name": "stdout",
     "output_type": "stream",
     "text": [
      "PeterWellert\n"
     ]
    }
   ],
   "source": [
    "print('Peter' 'Wellert')"
   ]
  },
  {
   "cell_type": "code",
   "execution_count": 9,
   "metadata": {},
   "outputs": [
    {
     "name": "stdout",
     "output_type": "stream",
     "text": [
      "[\"I'm\", 'gonna', 'make', 'him', 'an', 'offer', 'he', \"can't\", 'refuse.']\n"
     ]
    }
   ],
   "source": [
    "with open('data.txt', 'w') as f:\n",
    "    f.write(\"I'm gonna make him an offer he can't refuse.\")\n",
    " \n",
    "with open('data.txt', 'r') as f:\n",
    "    data = f.readlines()\n",
    "    for line in data:\n",
    "        words = line.split()\n",
    "        print(words)"
   ]
  },
  {
   "attachments": {},
   "cell_type": "markdown",
   "metadata": {},
   "source": [
    "no . and .. are returned from listdir()"
   ]
  },
  {
   "cell_type": "code",
   "execution_count": 10,
   "metadata": {},
   "outputs": [
    {
     "name": "stdout",
     "output_type": "stream",
     "text": [
      "['json_dicts.ipynb', 'data.txt']\n"
     ]
    }
   ],
   "source": [
    "import os\n",
    "print(os.listdir())"
   ]
  },
  {
   "attachments": {},
   "cell_type": "markdown",
   "metadata": {},
   "source": [
    "index when unable to find a value will result in ValueError"
   ]
  },
  {
   "cell_type": "code",
   "execution_count": 1,
   "metadata": {},
   "outputs": [
    {
     "ename": "ValueError",
     "evalue": "tuple.index(x): x not in tuple",
     "output_type": "error",
     "traceback": [
      "\u001b[0;31m---------------------------------------------------------------------------\u001b[0m",
      "\u001b[0;31mValueError\u001b[0m                                Traceback (most recent call last)",
      "Cell \u001b[0;32mIn[1], line 2\u001b[0m\n\u001b[1;32m      1\u001b[0m foo \u001b[39m=\u001b[39m (\u001b[39m1\u001b[39m, \u001b[39m2\u001b[39m, \u001b[39m3\u001b[39m)\n\u001b[0;32m----> 2\u001b[0m foo\u001b[39m.\u001b[39;49mindex(\u001b[39m0\u001b[39;49m)\n",
      "\u001b[0;31mValueError\u001b[0m: tuple.index(x): x not in tuple"
     ]
    }
   ],
   "source": [
    "foo = (1, 2, 3)\n",
    "foo.index(0)"
   ]
  },
  {
   "cell_type": "code",
   "execution_count": 2,
   "metadata": {},
   "outputs": [
    {
     "data": {
      "text/plain": [
       "2"
      ]
     },
     "execution_count": 2,
     "metadata": {},
     "output_type": "execute_result"
    }
   ],
   "source": [
    "foo = (1, 2, 3, 4, 5, 6)\n",
    "# index(string_to_find, start_position, end_position)\n",
    "foo.index(3, 2, 5)"
   ]
  },
  {
   "attachments": {},
   "cell_type": "markdown",
   "metadata": {},
   "source": [
    "z = 3\n",
    "y = 7\n",
    "x = y == z and y > z or z > y and z != y\n",
    "\n",
    "x = (False and True) or (False and True)\n",
    "x = False or False\n",
    "x = False"
   ]
  },
  {
   "cell_type": "code",
   "execution_count": 4,
   "metadata": {},
   "outputs": [
    {
     "name": "stdout",
     "output_type": "stream",
     "text": [
      "False\n"
     ]
    }
   ],
   "source": [
    "z = 3\n",
    "y = 7\n",
    "x = y == z and y > z or z > y and z != y\n",
    "print(x)"
   ]
  },
  {
   "attachments": {},
   "cell_type": "markdown",
   "metadata": {},
   "source": [
    "You able able to pass in, as an argument, the namespace of a dict to a function"
   ]
  },
  {
   "cell_type": "code",
   "execution_count": 9,
   "metadata": {},
   "outputs": [
    {
     "name": "stdout",
     "output_type": "stream",
     "text": [
      "1\n",
      "None\n"
     ]
    }
   ],
   "source": [
    "data = {}\n",
    " \n",
    " \n",
    "def func(d, key, value):\n",
    "    d[key] = value\n",
    "    # the data dictionary is passed in as an argument and can be used below\n",
    "    for k in d.keys():\n",
    "        print(k)\n",
    " \n",
    " \n",
    "print(func(data, '1', 'Peter'))"
   ]
  },
  {
   "cell_type": "code",
   "execution_count": 10,
   "metadata": {},
   "outputs": [
    {
     "name": "stdout",
     "output_type": "stream",
     "text": [
      "python"
     ]
    }
   ],
   "source": [
    "s = 'python'\n",
    "for i in range(len(s)):\n",
    "    i = s[i].upper()\n",
    "print(s, end='')"
   ]
  },
  {
   "attachments": {},
   "cell_type": "markdown",
   "metadata": {},
   "source": [
    "number is passed to the function as num and incremented.  This does not increment number.  Number remains unchanged.  As counter is an object made from a class, when it's self is updated it holds on to its value."
   ]
  },
  {
   "cell_type": "code",
   "execution_count": 11,
   "metadata": {},
   "outputs": [
    {
     "name": "stdout",
     "output_type": "stream",
     "text": [
      "counter is 100, number of times is 0\n"
     ]
    }
   ],
   "source": [
    "def increment(c, num):\n",
    "    c.count += 1\n",
    "    num += 1\n",
    " \n",
    " \n",
    "class Counter:\n",
    "    def __init__(self):\n",
    "        self.count = 0\n",
    " \n",
    " \n",
    "counter = Counter()\n",
    "number = 0\n",
    " \n",
    "for i in range(0, 100):\n",
    "    increment(counter, number)\n",
    " \n",
    "print(\n",
    "    \"counter is \"\n",
    "    + str(counter.count)\n",
    "    + \", number of times is \"\n",
    "    + str(number)\n",
    ")"
   ]
  },
  {
   "cell_type": "code",
   "execution_count": 12,
   "metadata": {},
   "outputs": [
    {
     "ename": "IndexError",
     "evalue": "list index out of range",
     "output_type": "error",
     "traceback": [
      "\u001b[0;31m---------------------------------------------------------------------------\u001b[0m",
      "\u001b[0;31mIndexError\u001b[0m                                Traceback (most recent call last)",
      "Cell \u001b[0;32mIn[12], line 2\u001b[0m\n\u001b[1;32m      1\u001b[0m data \u001b[39m=\u001b[39m [[\u001b[39m0\u001b[39m, \u001b[39m1\u001b[39m, \u001b[39m2\u001b[39m, \u001b[39m3\u001b[39m] \u001b[39mfor\u001b[39;00m i \u001b[39min\u001b[39;00m \u001b[39mrange\u001b[39m(\u001b[39m2\u001b[39m)]\n\u001b[0;32m----> 2\u001b[0m \u001b[39mprint\u001b[39m(data[\u001b[39m2\u001b[39;49m][\u001b[39m0\u001b[39m])\n",
      "\u001b[0;31mIndexError\u001b[0m: list index out of range"
     ]
    }
   ],
   "source": [
    "data = [[0, 1, 2, 3] for i in range(2)]\n",
    "print(data[2][0])"
   ]
  },
  {
   "cell_type": "code",
   "execution_count": 14,
   "metadata": {},
   "outputs": [
    {
     "name": "stdout",
     "output_type": "stream",
     "text": [
      "4\n"
     ]
    }
   ],
   "source": [
    "my_list = [1, 2, 2, 3, 3, 3, 4, 4, 4, 4]\n",
    "data = set(my_list)\n",
    "print(len(data))"
   ]
  },
  {
   "attachments": {},
   "cell_type": "markdown",
   "metadata": {},
   "source": [
    "set will automatically deduplicate a list"
   ]
  },
  {
   "cell_type": "code",
   "execution_count": 16,
   "metadata": {},
   "outputs": [
    {
     "name": "stdout",
     "output_type": "stream",
     "text": [
      "{1, 2, 3, 4}\n",
      "4\n"
     ]
    }
   ],
   "source": [
    "my_set = {1, 2, 2, 3, 3, 3, 4, 4, 4, 4}\n",
    "print(my_set)\n",
    "print(len(my_set))"
   ]
  },
  {
   "cell_type": "code",
   "execution_count": 17,
   "metadata": {},
   "outputs": [
    {
     "name": "stdout",
     "output_type": "stream",
     "text": [
      "bytearray(b'\\x00\\x00\\x00')\n"
     ]
    }
   ],
   "source": [
    "b = bytearray(3)\n",
    "print(b)"
   ]
  },
  {
   "cell_type": "code",
   "execution_count": 22,
   "metadata": {},
   "outputs": [
    {
     "name": "stdout",
     "output_type": "stream",
     "text": [
      "2\n",
      "3\n",
      "4\n",
      "5\n",
      "6\n",
      "[2, 3, 4, 5, 6, 6]\n",
      "2 3 4 5 6 6 "
     ]
    }
   ],
   "source": [
    "data = [1, 2, 3, 4, 5, 6]\n",
    " \n",
    "for i in range(1, 6):\n",
    "    data[i - 1] = data[i] # this line reassigns the value for data[i - 1] to data[i]. 1 becomes 2, 2, becomes 3, etc.. there are 5 loops so [2, 3, 4, 5, 6, 6] is returned\n",
    "    print(data[i])\n",
    "\n",
    "print(data) \n",
    "\n",
    "for i in range(0, 6):\n",
    "    # this just prints out the list\n",
    "    print(data[i], end=' ')"
   ]
  },
  {
   "attachments": {},
   "cell_type": "markdown",
   "metadata": {},
   "source": [
    "start at position 3. end at position 0 (exclusive) and return the rows backwards"
   ]
  },
  {
   "cell_type": "code",
   "execution_count": 23,
   "metadata": {},
   "outputs": [
    {
     "name": "stdout",
     "output_type": "stream",
     "text": [
      "[4, 3, 2]\n"
     ]
    }
   ],
   "source": [
    "a = [1, 2, 3, 4, 5]\n",
    "print(a[3:0:-1])"
   ]
  },
  {
   "cell_type": "code",
   "execution_count": 24,
   "metadata": {},
   "outputs": [
    {
     "name": "stdout",
     "output_type": "stream",
     "text": [
      "[6, 4, 2]\n"
     ]
    }
   ],
   "source": [
    "a = [1, 2, 3, 4, 5,6,7]\n",
    "print(a[5:0:-2])"
   ]
  },
  {
   "attachments": {},
   "cell_type": "markdown",
   "metadata": {},
   "source": [
    "x = 1\n",
    "while x < 10:\n",
    "    print('*')\n",
    "    x = x << 1\n",
    "\n",
    "start print end\n",
    "1   *   2\n",
    "2   **  4\n",
    "4   *** 8\n",
    "8   **** 16"
   ]
  },
  {
   "cell_type": "code",
   "execution_count": 25,
   "metadata": {},
   "outputs": [
    {
     "name": "stdout",
     "output_type": "stream",
     "text": [
      "*\n",
      "*\n",
      "*\n",
      "*\n"
     ]
    }
   ],
   "source": [
    "x = 1\n",
    "while x < 10:\n",
    "    print('*')\n",
    "    x = x << 1"
   ]
  },
  {
   "cell_type": "code",
   "execution_count": 26,
   "metadata": {},
   "outputs": [
    {
     "name": "stdout",
     "output_type": "stream",
     "text": [
      "3\n"
     ]
    }
   ],
   "source": [
    "class A:\n",
    " \n",
    "    def __init__(self, v=2):\n",
    "        self.v = v\n",
    " \n",
    "    def set(self, v=1):\n",
    "        self.v += v\n",
    "        return self.v\n",
    " \n",
    " \n",
    "a = A()\n",
    "b = a\n",
    "b.set()\n",
    " \n",
    "print(a.v)"
   ]
  },
  {
   "attachments": {},
   "cell_type": "markdown",
   "metadata": {},
   "source": [
    "x = 1 + 1 // 2 + 1 / 2 + 2\n",
    "x = 1 + (1 // 2) + (1 / 2) + 2\n",
    "x = 1 + 0 + 0.5 + 2\n",
    "print(x)"
   ]
  },
  {
   "cell_type": "code",
   "execution_count": 27,
   "metadata": {},
   "outputs": [
    {
     "name": "stdout",
     "output_type": "stream",
     "text": [
      "3.5\n"
     ]
    }
   ],
   "source": [
    "x = 1 + 1 // 2 + 1 / 2 + 2\n",
    "print(x)"
   ]
  },
  {
   "cell_type": "code",
   "execution_count": 28,
   "metadata": {},
   "outputs": [
    {
     "name": "stdout",
     "output_type": "stream",
     "text": [
      "True False\n"
     ]
    }
   ],
   "source": [
    "class Ceil:\n",
    "    Token = 1\n",
    " \n",
    "    def get_token(self):\n",
    "        return 1\n",
    " \n",
    " \n",
    "class Floor(Ceil):\n",
    "    def get_token(self):\n",
    "        return 2\n",
    " \n",
    "    def set_token(self):\n",
    "        pass\n",
    " \n",
    " \n",
    "holder = Floor()\n",
    "print(hasattr(holder, \"Token\"), hasattr(Ceil, \"set_token\"))"
   ]
  },
  {
   "cell_type": "code",
   "execution_count": 32,
   "metadata": {},
   "outputs": [
    {
     "name": "stdout",
     "output_type": "stream",
     "text": [
      "0\n"
     ]
    }
   ],
   "source": [
    "print(1 // 2 * 3)"
   ]
  }
 ],
 "metadata": {
  "kernelspec": {
   "display_name": "Python 3",
   "language": "python",
   "name": "python3"
  },
  "language_info": {
   "codemirror_mode": {
    "name": "ipython",
    "version": 3
   },
   "file_extension": ".py",
   "mimetype": "text/x-python",
   "name": "python",
   "nbconvert_exporter": "python",
   "pygments_lexer": "ipython3",
   "version": "3.9.16"
  },
  "orig_nbformat": 4
 },
 "nbformat": 4,
 "nbformat_minor": 2
}
