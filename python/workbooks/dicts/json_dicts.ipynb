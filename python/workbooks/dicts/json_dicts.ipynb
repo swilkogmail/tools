{
 "cells": [
  {
   "cell_type": "code",
   "execution_count": 14,
   "metadata": {},
   "outputs": [],
   "source": [
    "import json\n",
    "s_dictionary = '{\"dml-bucket\":\"a205384-s3-preprod-config-us-east-1-uat\",\"load_queue\":\"https://sqs.us-east-1.amazonaws.com/368476372619/a205384-sqs-preprod-primary-mwaa-batch-notify-us-east-1-uat.fifo\",\"sns_topic_arn\":\"arn:aws:sns:us-east-1:368476372619:a205384-sns-preprod-mwaa-batch-progress-us-east-1-uat\",\"login\":\"a205384_dep_eaw_preprod_mds_svc_user\",\"schema\":\"A205384_DEP_EAW_PREPROD\",\"warehouse\":\"A205384_DEP_EAW_PREPROD_MDS_WH\",\"region\":\"us-east-1\",\"host\":\"https://a206448_prod.us-east-1.snowflakecomputing.com\",\"account\":\"a206448_prod\",\"database\":\"MYDATASPACE\"}'\n",
    "\n",
    "def get_var_from_secrets(varName):\n",
    "    secret_d = json.loads(s_dictionary)\n",
    "    varVal = secret_d[varName]\n",
    "    return varVal"
   ]
  },
  {
   "cell_type": "code",
   "execution_count": 15,
   "metadata": {},
   "outputs": [
    {
     "data": {
      "text/plain": [
       "'a205384-s3-preprod-config-us-east-1-uat'"
      ]
     },
     "execution_count": 15,
     "metadata": {},
     "output_type": "execute_result"
    }
   ],
   "source": [
    "my_var = get_var_from_secrets('dml-bucket')\n",
    "my_var"
   ]
  }
 ],
 "metadata": {
  "kernelspec": {
   "display_name": "Python 3",
   "language": "python",
   "name": "python3"
  },
  "language_info": {
   "codemirror_mode": {
    "name": "ipython",
    "version": 3
   },
   "file_extension": ".py",
   "mimetype": "text/x-python",
   "name": "python",
   "nbconvert_exporter": "python",
   "pygments_lexer": "ipython3",
   "version": "3.9.16"
  },
  "orig_nbformat": 4
 },
 "nbformat": 4,
 "nbformat_minor": 2
}
