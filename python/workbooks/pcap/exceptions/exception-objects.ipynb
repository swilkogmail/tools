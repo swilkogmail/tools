{
 "cells": [
  {
   "cell_type": "code",
   "execution_count": 6,
   "metadata": {},
   "outputs": [],
   "source": [
    "def return_bigger(a ,b):\n",
    "    try:\n",
    "        if b > a:\n",
    "            return b\n",
    "        else:\n",
    "            return a\n",
    "    except Exception as e:\n",
    "        print(e)\n",
    "        return None"
   ]
  },
  {
   "attachments": {},
   "cell_type": "markdown",
   "metadata": {},
   "source": [
    "The exception class implements a version of __str__ which will print a useful error message."
   ]
  },
  {
   "cell_type": "code",
   "execution_count": 7,
   "metadata": {},
   "outputs": [
    {
     "name": "stdout",
     "output_type": "stream",
     "text": [
      "'>' not supported between instances of 'str' and 'int'\n",
      "None\n"
     ]
    }
   ],
   "source": [
    "print(return_bigger(5, 'b'))"
   ]
  },
  {
   "attachments": {},
   "cell_type": "markdown",
   "metadata": {},
   "source": [
    "These are all the classes that inherit from BaseException"
   ]
  },
  {
   "cell_type": "code",
   "execution_count": 8,
   "metadata": {},
   "outputs": [
    {
     "name": "stdout",
     "output_type": "stream",
     "text": [
      "Exception\n",
      "GeneratorExit\n",
      "SystemExit\n",
      "KeyboardInterrupt\n",
      "CancelledError\n",
      "AbortThread\n"
     ]
    }
   ],
   "source": [
    "for subclass in BaseException.__subclasses__():\n",
    "    print(subclass.__name__)"
   ]
  },
  {
   "attachments": {},
   "cell_type": "markdown",
   "metadata": {},
   "source": [
    "These are all the classes that inherit from Exception"
   ]
  },
  {
   "cell_type": "code",
   "execution_count": 9,
   "metadata": {},
   "outputs": [
    {
     "name": "stdout",
     "output_type": "stream",
     "text": [
      "TypeError\n",
      "StopAsyncIteration\n",
      "StopIteration\n",
      "ImportError\n",
      "OSError\n",
      "EOFError\n",
      "RuntimeError\n",
      "NameError\n",
      "AttributeError\n",
      "SyntaxError\n",
      "LookupError\n",
      "ValueError\n",
      "AssertionError\n",
      "ArithmeticError\n",
      "SystemError\n",
      "ReferenceError\n",
      "MemoryError\n",
      "BufferError\n",
      "Warning\n",
      "Error\n",
      "error\n",
      "Verbose\n",
      "_OptionError\n",
      "_Error\n",
      "SubprocessError\n",
      "ArgumentError\n",
      "error\n",
      "ZMQBaseError\n",
      "Error\n",
      "PickleError\n",
      "_Stop\n",
      "TokenError\n",
      "StopTokenizing\n",
      "Error\n",
      "_GiveupOnSendfile\n",
      "Incomplete\n",
      "ClassFoundException\n",
      "EndOfBlock\n",
      "TimeoutError\n",
      "InvalidStateError\n",
      "LimitOverrunError\n",
      "QueueEmpty\n",
      "QueueFull\n",
      "TraitError\n",
      "Empty\n",
      "Full\n",
      "error\n",
      "error\n",
      "ReturnValueIgnoredError\n",
      "ArgumentError\n",
      "ArgumentTypeError\n",
      "ConfigError\n",
      "ConfigurableError\n",
      "ApplicationError\n",
      "InvalidPortNumber\n",
      "error\n",
      "LZMAError\n",
      "RegistryError\n",
      "_GiveupOnFastCopy\n",
      "NoIPAddresses\n",
      "Error\n",
      "BadZipFile\n",
      "LargeZipFile\n",
      "Error\n",
      "MessageError\n",
      "DuplicateKernelError\n",
      "ErrorDuringImport\n",
      "NotOneValueFound\n",
      "CannotEval\n",
      "OptionError\n",
      "BdbQuit\n",
      "Restart\n",
      "ExceptionPexpect\n",
      "PtyProcessError\n",
      "FindCmdError\n",
      "HomeDirError\n",
      "ProfileDirError\n",
      "IPythonCoreError\n",
      "InputRejected\n",
      "GetoptError\n",
      "ErrorToken\n",
      "PrefilterError\n",
      "AliasError\n",
      "Error\n",
      "Warning\n",
      "SpaceInInput\n",
      "DOMException\n",
      "ValidationError\n",
      "EditReadOnlyBuffer\n",
      "_Retry\n",
      "InvalidLayoutError\n",
      "HeightIsUnknownError\n",
      "GuardRejection\n",
      "ParserSyntaxError\n",
      "InternalParseError\n",
      "_PositionUpdatingFinished\n",
      "SimpleGetItemNotFound\n",
      "UncaughtAttributeError\n",
      "HasNoContext\n",
      "ParamIssue\n",
      "_JediError\n",
      "OnErrorLeaf\n",
      "InvalidPythonEnvironment\n",
      "HTTPException\n",
      "InteractivelyDefined\n",
      "KillEmbedded\n",
      "Error\n",
      "ZombieProcessError\n",
      "KeyReuseError\n",
      "UnknownKeyError\n",
      "LeakedCallbackError\n",
      "BadYieldError\n",
      "ReturnValueIgnoredError\n",
      "Return\n",
      "QueueEmpty\n",
      "QueueFull\n",
      "DebuggerInitializationError\n",
      "ExpatError\n",
      "Error\n",
      "ParseBaseException\n",
      "RecursiveGrammarException\n",
      "ResolutionError\n",
      "_Error\n",
      "UnableToResolveVariableException\n",
      "InvalidTypeInArgsException\n"
     ]
    }
   ],
   "source": [
    "for subclass in Exception.__subclasses__():\n",
    "    print(subclass.__name__)"
   ]
  }
 ],
 "metadata": {
  "kernelspec": {
   "display_name": "Python 3",
   "language": "python",
   "name": "python3"
  },
  "language_info": {
   "codemirror_mode": {
    "name": "ipython",
    "version": 3
   },
   "file_extension": ".py",
   "mimetype": "text/x-python",
   "name": "python",
   "nbconvert_exporter": "python",
   "pygments_lexer": "ipython3",
   "version": "3.9.16"
  },
  "orig_nbformat": 4
 },
 "nbformat": 4,
 "nbformat_minor": 2
}
