{
 "cells": [
  {
   "attachments": {},
   "cell_type": "markdown",
   "metadata": {},
   "source": []
  },
  {
   "attachments": {},
   "cell_type": "markdown",
   "metadata": {},
   "source": [
    "The execption raised is just a message passed to the expecption class"
   ]
  },
  {
   "cell_type": "code",
   "execution_count": 3,
   "metadata": {},
   "outputs": [
    {
     "name": "stdout",
     "output_type": "stream",
     "text": [
      "tuple.index(x): x not in tuple\n"
     ]
    }
   ],
   "source": [
    "consts = (3.141592, 2.718282)\n",
    "try:\n",
    "    print(consts.index(314e-2))\n",
    "except Exception as exception:\n",
    "    print(exception)\n",
    "else:\n",
    "    print(\"('success')\")"
   ]
  },
  {
   "attachments": {},
   "cell_type": "markdown",
   "metadata": {},
   "source": [
    "you can see this by pumping out all the messages, which are captured in a tuple called args, below"
   ]
  },
  {
   "cell_type": "code",
   "execution_count": 2,
   "metadata": {},
   "outputs": [
    {
     "name": "stdout",
     "output_type": "stream",
     "text": [
      "('tuple.index(x): x not in tuple',)\n"
     ]
    }
   ],
   "source": [
    "consts = (3.141592, 2.718282)\n",
    "try:\n",
    "    print(consts.index(314e-2))\n",
    "except Exception as exception:\n",
    "    print(exception.args)\n",
    "else:\n",
    "    print(\"('success')\")"
   ]
  }
 ],
 "metadata": {
  "kernelspec": {
   "display_name": "Python 3",
   "language": "python",
   "name": "python3"
  },
  "language_info": {
   "codemirror_mode": {
    "name": "ipython",
    "version": 3
   },
   "file_extension": ".py",
   "mimetype": "text/x-python",
   "name": "python",
   "nbconvert_exporter": "python",
   "pygments_lexer": "ipython3",
   "version": "3.9.6"
  },
  "orig_nbformat": 4
 },
 "nbformat": 4,
 "nbformat_minor": 2
}
