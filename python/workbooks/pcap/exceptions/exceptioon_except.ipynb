{
 "cells": [
  {
   "attachments": {},
   "cell_type": "markdown",
   "metadata": {},
   "source": [
    "except Exception handles the exception as although except can too it's the first exception that can"
   ]
  },
  {
   "cell_type": "code",
   "execution_count": 4,
   "metadata": {},
   "outputs": [
    {
     "name": "stdout",
     "output_type": "stream",
     "text": [
      "-1\n"
     ]
    }
   ],
   "source": [
    "def fun(x):\n",
    "    return 1 / x\n",
    " \n",
    " \n",
    "def mid_level(x):\n",
    "    try:\n",
    "        fun(x)\n",
    "    except:\n",
    "        raise AssertionError\n",
    "    else:\n",
    "        return 0\n",
    " \n",
    " \n",
    "try:\n",
    "    x = mid_level(0)\n",
    "except Exception:\n",
    "    x = -1\n",
    "except:\n",
    "    x = -2\n",
    " \n",
    "print(x)  # -1"
   ]
  },
  {
   "attachments": {},
   "cell_type": "markdown",
   "metadata": {},
   "source": [
    "a named exception cannot appear after a catch all"
   ]
  },
  {
   "cell_type": "code",
   "execution_count": null,
   "metadata": {},
   "outputs": [],
   "source": [
    "def fun(x):\n",
    "    return 1 / x\n",
    " \n",
    " \n",
    "def mid_level(x):\n",
    "    try:\n",
    "        fun(x)\n",
    "    except:\n",
    "        raise AssertionError\n",
    "    else:\n",
    "        return 0\n",
    " \n",
    " \n",
    "try:\n",
    "    x = mid_level(0)\n",
    "except:\n",
    "    x = -2\n",
    "except Exception:\n",
    "    x = -1\n",
    " \n",
    "print(x)  # -1"
   ]
  },
  {
   "attachments": {},
   "cell_type": "markdown",
   "metadata": {},
   "source": [
    "base exception can be named after the Exception exception. Here Exception is also aliased"
   ]
  },
  {
   "cell_type": "code",
   "execution_count": 11,
   "metadata": {},
   "outputs": [
    {
     "name": "stdout",
     "output_type": "stream",
     "text": [
      "-1\n"
     ]
    }
   ],
   "source": [
    "def fun(x):\n",
    "    return 1 / x\n",
    " \n",
    " \n",
    "def mid_level(x):\n",
    "    try:\n",
    "        fun(x)\n",
    "    except:\n",
    "        raise AssertionError\n",
    "    else:\n",
    "        return 0\n",
    " \n",
    " \n",
    "try:\n",
    "    x = mid_level(0)\n",
    "except Exception as e:\n",
    "    x = -1\n",
    "except BaseException:\n",
    "    x = -3\n",
    "except:\n",
    "    x = -2\n",
    " \n",
    "print(x)  # -1"
   ]
  },
  {
   "attachments": {},
   "cell_type": "markdown",
   "metadata": {},
   "source": [
    "You can pass message(s) to the exception and it will be allocated to args tuple"
   ]
  },
  {
   "cell_type": "code",
   "execution_count": 16,
   "metadata": {},
   "outputs": [
    {
     "name": "stdout",
     "output_type": "stream",
     "text": [
      "('AssertionError', 'Catch all exception from mid level', 'argument to fun() was: 0')\n",
      "('AssertionError', 'Catch all exception from mid level', 'argument to fun() was: 0')\n",
      "-1\n"
     ]
    }
   ],
   "source": [
    "def fun(x):\n",
    "    return 1 / x\n",
    " \n",
    " \n",
    "def mid_level(x):\n",
    "    try:\n",
    "        fun(x)\n",
    "    except:\n",
    "        raise AssertionError('AssertionError','Catch all exception from mid level','argument to fun() was: ' + str(x))\n",
    "    else:\n",
    "        return 0\n",
    " \n",
    " \n",
    "try:\n",
    "    x = mid_level(0)\n",
    "except Exception as e:\n",
    "    x = -1\n",
    "    print(e)\n",
    "    print(e.args)\n",
    "except BaseException:\n",
    "    x = -3\n",
    "except:\n",
    "    x = -2\n",
    " \n",
    "print(x)  # -1"
   ]
  },
  {
   "attachments": {},
   "cell_type": "markdown",
   "metadata": {},
   "source": [
    "Now baseexpeption can handle the error (as exception is build from baseexpcetion)  - note the excpetion  is greyed out, i.e. it will never be called now"
   ]
  },
  {
   "cell_type": "code",
   "execution_count": 19,
   "metadata": {},
   "outputs": [
    {
     "name": "stdout",
     "output_type": "stream",
     "text": [
      "('AssertionError', 'Catch all exception from mid level', 'argument to fun() was: 0')\n",
      "('AssertionError', 'Catch all exception from mid level', 'argument to fun() was: 0')\n",
      "-3\n"
     ]
    }
   ],
   "source": [
    "def fun(x):\n",
    "    return 1 / x\n",
    " \n",
    " \n",
    "def mid_level(x):\n",
    "    try:\n",
    "        fun(x)\n",
    "    except:\n",
    "        raise AssertionError('AssertionError','Catch all exception from mid level','argument to fun() was: ' + str(x))\n",
    "    else:\n",
    "        return 0\n",
    " \n",
    " \n",
    "try:\n",
    "    x = mid_level(0)\n",
    "except BaseException as e:\n",
    "    x = -3\n",
    "    print(e)\n",
    "    print(e.args)\n",
    "except Exception as e:\n",
    "    x = -1\n",
    "    print(e)\n",
    "    print(e.args)\n",
    "except:\n",
    "    x = -2\n",
    " \n",
    "print(x)  # -1"
   ]
  }
 ],
 "metadata": {
  "kernelspec": {
   "display_name": "Python 3",
   "language": "python",
   "name": "python3"
  },
  "language_info": {
   "codemirror_mode": {
    "name": "ipython",
    "version": 3
   },
   "file_extension": ".py",
   "mimetype": "text/x-python",
   "name": "python",
   "nbconvert_exporter": "python",
   "pygments_lexer": "ipython3",
   "version": "3.9.6"
  },
  "orig_nbformat": 4
 },
 "nbformat": 4,
 "nbformat_minor": 2
}
