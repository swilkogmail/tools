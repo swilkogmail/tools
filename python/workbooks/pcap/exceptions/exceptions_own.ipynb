{
 "cells": [
  {
   "attachments": {},
   "cell_type": "markdown",
   "metadata": {},
   "source": [
    "We can use another exception class as a base for our own custom exception.  Picking an existing exception that best meets the expcetion we are trying to catch."
   ]
  },
  {
   "cell_type": "code",
   "execution_count": 9,
   "metadata": {},
   "outputs": [],
   "source": [
    "class AnimalValueError(ValueError):\n",
    "    pass\n",
    "\n",
    "def produce_animal_sound(animal_type):\n",
    "    if animal_type == 'Dog':\n",
    "        print('bark')\n",
    "    elif animal_type == 'Cat':\n",
    "        print('meow')\n",
    "    else:\n",
    "        raise AnimalValueError('Incorrect animal type')\n"
   ]
  },
  {
   "cell_type": "code",
   "execution_count": 10,
   "metadata": {},
   "outputs": [
    {
     "name": "stdout",
     "output_type": "stream",
     "text": [
      "bark\n"
     ]
    }
   ],
   "source": [
    "produce_animal_sound('Dog')"
   ]
  },
  {
   "cell_type": "code",
   "execution_count": 11,
   "metadata": {},
   "outputs": [
    {
     "ename": "AnimalValueError",
     "evalue": "Incorrect animal type",
     "output_type": "error",
     "traceback": [
      "\u001b[0;31m---------------------------------------------------------------------------\u001b[0m",
      "\u001b[0;31mAnimalValueError\u001b[0m                          Traceback (most recent call last)",
      "Cell \u001b[0;32mIn[11], line 1\u001b[0m\n\u001b[0;32m----> 1\u001b[0m produce_animal_sound(\u001b[39m'\u001b[39;49m\u001b[39mPig\u001b[39;49m\u001b[39m'\u001b[39;49m)\n",
      "Cell \u001b[0;32mIn[9], line 10\u001b[0m, in \u001b[0;36mproduce_animal_sound\u001b[0;34m(animal_type)\u001b[0m\n\u001b[1;32m      8\u001b[0m     \u001b[39mprint\u001b[39m(\u001b[39m'\u001b[39m\u001b[39mmeow\u001b[39m\u001b[39m'\u001b[39m)\n\u001b[1;32m      9\u001b[0m \u001b[39melse\u001b[39;00m:\n\u001b[0;32m---> 10\u001b[0m     \u001b[39mraise\u001b[39;00m AnimalValueError(\u001b[39m'\u001b[39m\u001b[39mIncorrect animal type\u001b[39m\u001b[39m'\u001b[39m)\n",
      "\u001b[0;31mAnimalValueError\u001b[0m: Incorrect animal type"
     ]
    }
   ],
   "source": [
    "produce_animal_sound('Pig')"
   ]
  },
  {
   "attachments": {},
   "cell_type": "markdown",
   "metadata": {},
   "source": [
    "We could also use a more general class to build our custom exception from"
   ]
  },
  {
   "cell_type": "code",
   "execution_count": 12,
   "metadata": {},
   "outputs": [
    {
     "name": "stdout",
     "output_type": "stream",
     "text": [
      "Hello Steve\n",
      "UserActionExceptionoccured. Error message: empty name!,userId: 987321\n"
     ]
    }
   ],
   "source": [
    "class UserActionException(Exception):\n",
    "    def __init__(self, message='',user_id=''):\n",
    "        Exception.__init__(self)\n",
    "        self.user_id = user_id\n",
    "        self.message = message\n",
    "    def __str__(self):\n",
    "        return type(self).__name__ + 'occured. Error message: ' + self.message + ',userId: ' + self.user_id\n",
    "    \n",
    "def say_hello(name, user_id):\n",
    "    if name == '':\n",
    "        raise UserActionException('empty name!', user_id)\n",
    "    print('Hello', name)\n",
    "\n",
    "try:\n",
    "    say_hello('Steve', '0171639')\n",
    "    say_hello('','987321')\n",
    "except Exception as e:\n",
    "    print(e)"
   ]
  },
  {
   "cell_type": "code",
   "execution_count": 13,
   "metadata": {},
   "outputs": [],
   "source": [
    "class EmptyNameUserActionException(UserActionException):\n",
    "    def __init__(self, user_id=''):\n",
    "        super().__init__('An empty user id was provided', user_id)"
   ]
  },
  {
   "cell_type": "code",
   "execution_count": 14,
   "metadata": {},
   "outputs": [],
   "source": [
    "def say_hello(name, user_id):\n",
    "    if name == '':\n",
    "        raise EmptyNameUserActionException(user_id)\n",
    "    print('Hello', name)\n"
   ]
  },
  {
   "cell_type": "code",
   "execution_count": 15,
   "metadata": {},
   "outputs": [
    {
     "name": "stdout",
     "output_type": "stream",
     "text": [
      "Hello Steve\n",
      "EmptyNameUserActionExceptionoccured. Error message: An empty user id was provided,userId: 987321\n"
     ]
    }
   ],
   "source": [
    "try:\n",
    "    say_hello('Steve', '0171639')\n",
    "    say_hello('','987321')\n",
    "except Exception as e:\n",
    "    print(e)"
   ]
  }
 ],
 "metadata": {
  "kernelspec": {
   "display_name": "Python 3",
   "language": "python",
   "name": "python3"
  },
  "language_info": {
   "codemirror_mode": {
    "name": "ipython",
    "version": 3
   },
   "file_extension": ".py",
   "mimetype": "text/x-python",
   "name": "python",
   "nbconvert_exporter": "python",
   "pygments_lexer": "ipython3",
   "version": "3.9.16"
  },
  "orig_nbformat": 4
 },
 "nbformat": 4,
 "nbformat_minor": 2
}
