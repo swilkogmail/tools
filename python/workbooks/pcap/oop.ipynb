{
 "cells": [
  {
   "cell_type": "code",
   "execution_count": 1,
   "metadata": {},
   "outputs": [
    {
     "name": "stdout",
     "output_type": "stream",
     "text": [
      "hello I am sampleNickname and I am from city sampleCity\n"
     ]
    }
   ],
   "source": [
    "class User:\n",
    "    def __init__(self):\n",
    "        self.nickname = 'sampleNickname'\n",
    "        self.city = 'sampleCity'\n",
    "\n",
    "    def introduce(self):\n",
    "        print(f'hello I am {self.nickname} and I am from city {self.city}')\n",
    "\n",
    "sample_user = User()\n",
    "sample_user.introduce()"
   ]
  },
  {
   "cell_type": "code",
   "execution_count": 3,
   "metadata": {},
   "outputs": [
    {
     "name": "stdout",
     "output_type": "stream",
     "text": [
      "hello I am badboy and I am from city london\n"
     ]
    }
   ],
   "source": [
    "class User:\n",
    "    def __init__(self, user_nickname, user_city):\n",
    "        self.nickname = user_nickname\n",
    "        self.city = user_city\n",
    "\n",
    "    def introduce(self):\n",
    "        print(f'hello I am {self.nickname} and I am from city {self.city}')\n",
    "\n",
    "sample_user = User('badboy','london')\n",
    "sample_user.introduce()"
   ]
  }
 ],
 "metadata": {
  "kernelspec": {
   "display_name": "Python 3",
   "language": "python",
   "name": "python3"
  },
  "language_info": {
   "codemirror_mode": {
    "name": "ipython",
    "version": 3
   },
   "file_extension": ".py",
   "mimetype": "text/x-python",
   "name": "python",
   "nbconvert_exporter": "python",
   "pygments_lexer": "ipython3",
   "version": "3.9.16"
  },
  "orig_nbformat": 4
 },
 "nbformat": 4,
 "nbformat_minor": 2
}
