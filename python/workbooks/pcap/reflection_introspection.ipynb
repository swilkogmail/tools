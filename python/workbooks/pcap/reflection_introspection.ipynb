{
 "cells": [
  {
   "attachments": {},
   "cell_type": "markdown",
   "metadata": {},
   "source": [
    "Introspection is the ability to check the type of an object at runtime. You can get information about the object during the execusion of the program.\n",
    "\n",
    "The program below inspects the object type using dict and uses setattr to change it, if str, to ''."
   ]
  },
  {
   "cell_type": "code",
   "execution_count": 1,
   "metadata": {},
   "outputs": [],
   "source": [
    "def empty_strings(user_object):\n",
    "    for prop_name in user_object.__dict__.keys():\n",
    "        prop_value = getattr(user_object, prop_name)\n",
    "        if isinstance(prop_value, str):\n",
    "            setattr(user_object, prop_name, '')"
   ]
  },
  {
   "cell_type": "code",
   "execution_count": 2,
   "metadata": {},
   "outputs": [],
   "source": [
    "class Doctor():\n",
    "    def __init__(self, first_name = 'John', last_name = 'Smith'):\n",
    "        self.first_name = first_name\n",
    "        self.last_name = last_name\n",
    "        self.__format_names()\n",
    "\n",
    "    def __format_names(self):\n",
    "        self.first_name = self.first_name.title()\n",
    "        self.last_name = self.last_name.title()\n",
    "\n",
    "    def introduce(self):\n",
    "        print(f\"Hi I am {self.first_name}\")\n",
    "    \n",
    "    def compare_names(self, name_to_compare):\n",
    "        if self.first_name == name_to_compare:\n",
    "            print(f\"We have the name names\")\n",
    "        else:\n",
    "            print(\"Sorry my name is different\")\n",
    "\n",
    "    def get_first_last_name_together(self):\n",
    "        return self.first_name + ' ' + self.last_name\n",
    "    \n",
    "    def __str__(self):\n",
    "        return f\"Doctor is : {self.first_name} {self.last_name}\""
   ]
  },
  {
   "cell_type": "code",
   "execution_count": 4,
   "metadata": {},
   "outputs": [
    {
     "name": "stdout",
     "output_type": "stream",
     "text": [
      "Hi I am Steve\n"
     ]
    }
   ],
   "source": [
    "doc_steve = Doctor('Steve','Wilkins')\n",
    "doc_steve.introduce()"
   ]
  },
  {
   "cell_type": "code",
   "execution_count": 5,
   "metadata": {},
   "outputs": [
    {
     "name": "stdout",
     "output_type": "stream",
     "text": [
      "Hi I am \n"
     ]
    }
   ],
   "source": [
    "empty_strings(doc_steve)\n",
    "doc_steve.introduce()"
   ]
  },
  {
   "attachments": {},
   "cell_type": "markdown",
   "metadata": {},
   "source": [
    "Reflection allows you to change the properties or methods of the object at runtime, i.e. diuring the execusion of the program"
   ]
  }
 ],
 "metadata": {
  "kernelspec": {
   "display_name": "Python 3",
   "language": "python",
   "name": "python3"
  },
  "language_info": {
   "codemirror_mode": {
    "name": "ipython",
    "version": 3
   },
   "file_extension": ".py",
   "mimetype": "text/x-python",
   "name": "python",
   "nbconvert_exporter": "python",
   "pygments_lexer": "ipython3",
   "version": "3.9.16"
  },
  "orig_nbformat": 4
 },
 "nbformat": 4,
 "nbformat_minor": 2
}
