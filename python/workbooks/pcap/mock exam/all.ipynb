{
 "cells": [
  {
   "attachments": {},
   "cell_type": "markdown",
   "metadata": {},
   "source": [
    "When print the __dict__ of the class the constructor function is not included"
   ]
  },
  {
   "cell_type": "code",
   "execution_count": 6,
   "metadata": {},
   "outputs": [
    {
     "name": "stdout",
     "output_type": "stream",
     "text": [
      "1\n",
      "{'name': 'One'}\n"
     ]
    }
   ],
   "source": [
    "class Art():\n",
    " masterpiece = 'John'\n",
    " def __init__(self):\n",
    "  self.name = 'One'\n",
    " \n",
    "print(len(Art().__dict__))\n",
    "print(Art().__dict__)"
   ]
  },
  {
   "attachments": {},
   "cell_type": "markdown",
   "metadata": {},
   "source": [
    "greater than is not supported to compared strings and int"
   ]
  },
  {
   "cell_type": "code",
   "execution_count": 7,
   "metadata": {},
   "outputs": [
    {
     "name": "stdout",
     "output_type": "stream",
     "text": [
      "False\n"
     ]
    }
   ],
   "source": [
    "# print('20' > '8' or '20' > 8) this will raise TypeError\n",
    "print('20' > '8' or '20' > '8')"
   ]
  },
  {
   "attachments": {},
   "cell_type": "markdown",
   "metadata": {},
   "source": [
    "a varible defined in a class method without self is a local method variable and not an instance variable or a class variable and will therefore return with an attribute error when attepted to be accessed on the instance."
   ]
  },
  {
   "cell_type": "code",
   "execution_count": 10,
   "metadata": {},
   "outputs": [],
   "source": [
    "class A:\n",
    " b = 'b'\n",
    " \n",
    "def __init__(self):\n",
    " self.c = 'c'\n",
    " d = self.c\n",
    " \n",
    "a = A()\n",
    "# print(a.d) # returns Attribute error"
   ]
  },
  {
   "attachments": {},
   "cell_type": "markdown",
   "metadata": {},
   "source": [
    "ceil will return an integer.  so will floor"
   ]
  },
  {
   "cell_type": "code",
   "execution_count": 14,
   "metadata": {},
   "outputs": [
    {
     "name": "stdout",
     "output_type": "stream",
     "text": [
      "10\n",
      "<class 'int'>\n",
      "<class 'int'>\n"
     ]
    }
   ],
   "source": [
    "import math\n",
    " \n",
    "print(math.ceil(3.0) + math.floor(4.9) + 3)\n",
    "\n",
    "print(type(math.ceil(3.0)))\n",
    "print(type(math.floor(4.9)))"
   ]
  },
  {
   "attachments": {},
   "cell_type": "markdown",
   "metadata": {},
   "source": [
    "you can invoke a method on a class directly, i.e. not just from an object created from the class.  below when the class is called the class variable x has a reference self.x as C is the self and x belongs to it.  The alarm function is called from its supertype B - this, in turn, called the alarm method in A.  Self.x is concatinated with 'a' and printed."
   ]
  },
  {
   "cell_type": "code",
   "execution_count": 19,
   "metadata": {},
   "outputs": [
    {
     "name": "stdout",
     "output_type": "stream",
     "text": [
      "ay\n",
      "<class '__main__.C'>\n"
     ]
    }
   ],
   "source": [
    "class A:\n",
    " x = 'x'\n",
    " def alarm(self):\n",
    "  print('a' + self.x)\n",
    " \n",
    "class B(A):\n",
    " def alarm(self):\n",
    "  super().alarm()\n",
    " \n",
    "class C(B):\n",
    " x = 'y'\n",
    " \n",
    "# print(C.alarm()) # this will raise a type error as the class is not called\n",
    "C().alarm()"
   ]
  },
  {
   "cell_type": "code",
   "execution_count": 27,
   "metadata": {},
   "outputs": [
    {
     "name": "stdout",
     "output_type": "stream",
     "text": [
      "5\n",
      "None\n"
     ]
    }
   ],
   "source": [
    "def a():\n",
    " hey = 5\n",
    " \n",
    " def b():\n",
    "  print(hey)\n",
    " \n",
    " return b\n",
    " \n",
    "x = a()\n",
    "print(x())"
   ]
  },
  {
   "attachments": {},
   "cell_type": "markdown",
   "metadata": {},
   "source": [
    "Be careful.  Below A is called, i.e. the constructor method is called. Then the hasattrib is run against the class without a call."
   ]
  },
  {
   "cell_type": "code",
   "execution_count": 32,
   "metadata": {},
   "outputs": [
    {
     "name": "stdout",
     "output_type": "stream",
     "text": [
      "True\n",
      "{'c': 0}\n",
      "False\n",
      "{'__module__': '__main__', 'b': 1, '__init__': <function A.__init__ at 0x1062f4af0>, '__dict__': <attribute '__dict__' of 'A' objects>, '__weakref__': <attribute '__weakref__' of 'A' objects>, '__doc__': None}\n"
     ]
    }
   ],
   "source": [
    "class A:\n",
    " b = 1\n",
    " def __init__(self):\n",
    "  self.c = 0\n",
    " \n",
    "print(hasattr(A(), 'c'))\n",
    "print(A().__dict__)\n",
    "print(hasattr(A, 'c'))\n",
    "print(A.__dict__)"
   ]
  },
  {
   "attachments": {},
   "cell_type": "markdown",
   "metadata": {},
   "source": [
    "value error will be raised if the string passed to float is not able to be conmverted."
   ]
  },
  {
   "cell_type": "code",
   "execution_count": 34,
   "metadata": {},
   "outputs": [
    {
     "ename": "ValueError",
     "evalue": "could not convert string to float: '1,2'",
     "output_type": "error",
     "traceback": [
      "\u001b[0;31m---------------------------------------------------------------------------\u001b[0m",
      "\u001b[0;31mValueError\u001b[0m                                Traceback (most recent call last)",
      "Cell \u001b[0;32mIn[34], line 1\u001b[0m\n\u001b[0;32m----> 1\u001b[0m \u001b[39mfloat\u001b[39;49m(\u001b[39m'\u001b[39;49m\u001b[39m1,2\u001b[39;49m\u001b[39m'\u001b[39;49m)\n",
      "\u001b[0;31mValueError\u001b[0m: could not convert string to float: '1,2'"
     ]
    }
   ],
   "source": [
    "float('1,2')"
   ]
  }
 ],
 "metadata": {
  "kernelspec": {
   "display_name": "Python 3",
   "language": "python",
   "name": "python3"
  },
  "language_info": {
   "codemirror_mode": {
    "name": "ipython",
    "version": 3
   },
   "file_extension": ".py",
   "mimetype": "text/x-python",
   "name": "python",
   "nbconvert_exporter": "python",
   "pygments_lexer": "ipython3",
   "version": "3.9.16"
  },
  "orig_nbformat": 4
 },
 "nbformat": 4,
 "nbformat_minor": 2
}
