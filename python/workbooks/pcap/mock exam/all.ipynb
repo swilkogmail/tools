{
 "cells": [
  {
   "attachments": {},
   "cell_type": "markdown",
   "metadata": {},
   "source": [
    "When print the __dict__ of the class the constructor function is not included"
   ]
  },
  {
   "cell_type": "code",
   "execution_count": 6,
   "metadata": {},
   "outputs": [
    {
     "name": "stdout",
     "output_type": "stream",
     "text": [
      "1\n",
      "{'name': 'One'}\n"
     ]
    }
   ],
   "source": [
    "class Art():\n",
    " masterpiece = 'John'\n",
    " def __init__(self):\n",
    "  self.name = 'One'\n",
    " \n",
    "print(len(Art().__dict__))\n",
    "print(Art().__dict__)"
   ]
  },
  {
   "attachments": {},
   "cell_type": "markdown",
   "metadata": {},
   "source": [
    "greater than is not supported to compared strings and int"
   ]
  },
  {
   "cell_type": "code",
   "execution_count": 7,
   "metadata": {},
   "outputs": [
    {
     "name": "stdout",
     "output_type": "stream",
     "text": [
      "False\n"
     ]
    }
   ],
   "source": [
    "# print('20' > '8' or '20' > 8) this will raise TypeError\n",
    "print('20' > '8' or '20' > '8')"
   ]
  },
  {
   "attachments": {},
   "cell_type": "markdown",
   "metadata": {},
   "source": [
    "a varible defined in a class method without self is a local method variable and not an instance variable or a class variable and will therefore return with an attribute error when attepted to be accessed on the instance."
   ]
  },
  {
   "cell_type": "code",
   "execution_count": 10,
   "metadata": {},
   "outputs": [],
   "source": [
    "class A:\n",
    " b = 'b'\n",
    " \n",
    "def __init__(self):\n",
    " self.c = 'c'\n",
    " d = self.c\n",
    " \n",
    "a = A()\n",
    "# print(a.d) # returns Attribute error"
   ]
  },
  {
   "attachments": {},
   "cell_type": "markdown",
   "metadata": {},
   "source": [
    "ceil will return an integer.  so will floor"
   ]
  },
  {
   "cell_type": "code",
   "execution_count": 14,
   "metadata": {},
   "outputs": [
    {
     "name": "stdout",
     "output_type": "stream",
     "text": [
      "10\n",
      "<class 'int'>\n",
      "<class 'int'>\n"
     ]
    }
   ],
   "source": [
    "import math\n",
    " \n",
    "print(math.ceil(3.0) + math.floor(4.9) + 3)\n",
    "\n",
    "print(type(math.ceil(3.0)))\n",
    "print(type(math.floor(4.9)))"
   ]
  },
  {
   "attachments": {},
   "cell_type": "markdown",
   "metadata": {},
   "source": [
    "you can invoke a method on a class directly, i.e. not just from an object created from the class.  below when the class is called the class variable x has a reference self.x as C is the self and x belongs to it.  The alarm function is called from its supertype B - this, in turn, called the alarm method in A.  Self.x is concatinated with 'a' and printed."
   ]
  },
  {
   "cell_type": "code",
   "execution_count": 19,
   "metadata": {},
   "outputs": [
    {
     "name": "stdout",
     "output_type": "stream",
     "text": [
      "ay\n",
      "<class '__main__.C'>\n"
     ]
    }
   ],
   "source": [
    "class A:\n",
    " x = 'x'\n",
    " def alarm(self):\n",
    "  print('a' + self.x)\n",
    " \n",
    "class B(A):\n",
    " def alarm(self):\n",
    "  super().alarm()\n",
    " \n",
    "class C(B):\n",
    " x = 'y'\n",
    " \n",
    "# print(C.alarm()) # this will raise a type error as the class is not called\n",
    "C().alarm()"
   ]
  },
  {
   "cell_type": "code",
   "execution_count": 27,
   "metadata": {},
   "outputs": [
    {
     "name": "stdout",
     "output_type": "stream",
     "text": [
      "5\n",
      "None\n"
     ]
    }
   ],
   "source": [
    "def a():\n",
    " hey = 5\n",
    " \n",
    " def b():\n",
    "  print(hey)\n",
    " \n",
    " return b\n",
    " \n",
    "x = a()\n",
    "print(x())"
   ]
  },
  {
   "attachments": {},
   "cell_type": "markdown",
   "metadata": {},
   "source": [
    "Be careful.  Below A is called, i.e. the constructor method is called. Then the hasattrib is run against the class without a call."
   ]
  },
  {
   "cell_type": "code",
   "execution_count": 32,
   "metadata": {},
   "outputs": [
    {
     "name": "stdout",
     "output_type": "stream",
     "text": [
      "True\n",
      "{'c': 0}\n",
      "False\n",
      "{'__module__': '__main__', 'b': 1, '__init__': <function A.__init__ at 0x1062f4af0>, '__dict__': <attribute '__dict__' of 'A' objects>, '__weakref__': <attribute '__weakref__' of 'A' objects>, '__doc__': None}\n"
     ]
    }
   ],
   "source": [
    "class A:\n",
    " b = 1\n",
    " def __init__(self):\n",
    "  self.c = 0\n",
    " \n",
    "print(hasattr(A(), 'c'))\n",
    "print(A().__dict__)\n",
    "print(hasattr(A, 'c'))\n",
    "print(A.__dict__)"
   ]
  },
  {
   "attachments": {},
   "cell_type": "markdown",
   "metadata": {},
   "source": [
    "value error will be raised if the string passed to float is not able to be conmverted."
   ]
  },
  {
   "cell_type": "code",
   "execution_count": 34,
   "metadata": {},
   "outputs": [
    {
     "ename": "ValueError",
     "evalue": "could not convert string to float: '1,2'",
     "output_type": "error",
     "traceback": [
      "\u001b[0;31m---------------------------------------------------------------------------\u001b[0m",
      "\u001b[0;31mValueError\u001b[0m                                Traceback (most recent call last)",
      "Cell \u001b[0;32mIn[34], line 1\u001b[0m\n\u001b[0;32m----> 1\u001b[0m \u001b[39mfloat\u001b[39;49m(\u001b[39m'\u001b[39;49m\u001b[39m1,2\u001b[39;49m\u001b[39m'\u001b[39;49m)\n",
      "\u001b[0;31mValueError\u001b[0m: could not convert string to float: '1,2'"
     ]
    }
   ],
   "source": [
    "float('1,2')"
   ]
  },
  {
   "cell_type": "code",
   "execution_count": 4,
   "metadata": {},
   "outputs": [
    {
     "name": "stdout",
     "output_type": "stream",
     "text": [
      "False\n"
     ]
    }
   ],
   "source": [
    "num = 43\n",
    "even = num % 2 == 0\n",
    "print(even)"
   ]
  },
  {
   "cell_type": "code",
   "execution_count": 2,
   "metadata": {},
   "outputs": [
    {
     "name": "stdout",
     "output_type": "stream",
     "text": [
      "[10, 2, 20, 4, 30, 6, 40, 8, 50]\n"
     ]
    }
   ],
   "source": [
    "x = [1, 2, 3, 4, 5, 6, 7, 8, 9]\n",
    "x[::2] = 10, 20, 30, 40, 50\n",
    "print(x)"
   ]
  },
  {
   "cell_type": "code",
   "execution_count": 10,
   "metadata": {},
   "outputs": [
    {
     "name": "stdout",
     "output_type": "stream",
     "text": [
      "{'biscuit': 1, 'cake': 3}\n",
      "2\n",
      "2\n"
     ]
    }
   ],
   "source": [
    "box = {}\n",
    "jars = {}\n",
    "crates = {}\n",
    " \n",
    "box['biscuit'] = 1\n",
    "box['cake'] = 3\n",
    "\n",
    "print(box)\n",
    " \n",
    "jars['jam'] = 4\n",
    " \n",
    "crates['box'] = box\n",
    "crates['jars'] = jars\n",
    "\n",
    "print(len(crates))\n",
    " \n",
    "print(len(crates[\"box\"]))"
   ]
  },
  {
   "cell_type": "code",
   "execution_count": 11,
   "metadata": {},
   "outputs": [
    {
     "name": "stdout",
     "output_type": "stream",
     "text": [
      "False\n",
      "True\n",
      "True\n"
     ]
    }
   ],
   "source": [
    "class A:\n",
    "    pass\n",
    " \n",
    " \n",
    "class B(A):\n",
    "    pass\n",
    " \n",
    " \n",
    "class C(B):\n",
    "    pass\n",
    " \n",
    " \n",
    "print(issubclass(A, C))\n",
    "print(issubclass(C, B))\n",
    "print(issubclass(B, A))"
   ]
  },
  {
   "cell_type": "code",
   "execution_count": 13,
   "metadata": {},
   "outputs": [
    {
     "name": "stdout",
     "output_type": "stream",
     "text": [
      "TRUE\n"
     ]
    }
   ],
   "source": [
    "w = 7\n",
    "x = 3\n",
    "y = 4\n",
    "z = True\n",
    "a = w + x * y\n",
    "b = w + x / z\n",
    "\n",
    "a = 7 + 3 * 4\n",
    "a = 19\n",
    "b = 7 + 3 / 1\n",
    "b = 10\n",
    "\n",
    " \n",
    "if a > b:\n",
    "    print('TRUE')\n",
    "else:\n",
    "    print('FALSE')"
   ]
  },
  {
   "cell_type": "code",
   "execution_count": 29,
   "metadata": {},
   "outputs": [
    {
     "name": "stdout",
     "output_type": "stream",
     "text": [
      "turn on\n",
      "out of order crash\n"
     ]
    }
   ],
   "source": [
    "class Failure(Exception):\n",
    "    def __init__(self, message):\n",
    "        self.message = message\n",
    " \n",
    "    def __str__(self):\n",
    "        return \"out of order\"\n",
    " \n",
    " \n",
    "try:\n",
    "    print(\"turn on\")\n",
    "    raise Failure(\"crash\")\n",
    "except Failure as problem:\n",
    "    print(problem, problem.message)\n",
    "else:\n",
    "    print(\"success\")"
   ]
  },
  {
   "cell_type": "code",
   "execution_count": 30,
   "metadata": {},
   "outputs": [
    {
     "name": "stdout",
     "output_type": "stream",
     "text": [
      "turn on\n",
      "out of order\n"
     ]
    }
   ],
   "source": [
    "class Failure(Exception):\n",
    "    def __init__(self, message):\n",
    "        self.message = message\n",
    " \n",
    "    def __str__(self):\n",
    "        return \"out of order\"\n",
    " \n",
    " \n",
    "try:\n",
    "    print(\"turn on\")\n",
    "    raise Failure(\"crash\")\n",
    "except Failure as problem:\n",
    "    print(problem)\n",
    "else:\n",
    "    print(\"success\")"
   ]
  },
  {
   "cell_type": "code",
   "execution_count": 31,
   "metadata": {},
   "outputs": [
    {
     "name": "stdout",
     "output_type": "stream",
     "text": [
      "[]\n"
     ]
    }
   ],
   "source": [
    "my_tuple = (0, 1, 2, 3, 4, 5, 6)\n",
    "foo = list(filter(lambda x: x == 0 and x == 1, my_tuple))\n",
    "print(foo)"
   ]
  },
  {
   "attachments": {},
   "cell_type": "markdown",
   "metadata": {},
   "source": [
    "a = 1\n",
    "b = 0\n",
    "c = 1 & 0\n",
    "c = 0\n",
    "d = 1 | 0\n",
    "d = 1\n",
    "e = 1 ^ 0\n",
    "e = 1\n",
    "print(0 + 1 + 1)"
   ]
  },
  {
   "cell_type": "code",
   "execution_count": 32,
   "metadata": {},
   "outputs": [
    {
     "name": "stdout",
     "output_type": "stream",
     "text": [
      "2\n"
     ]
    }
   ],
   "source": [
    "a = 1\n",
    "b = 0\n",
    "c = a & b\n",
    "d = a | b\n",
    "e = a ^ b\n",
    "print(c + d + e)"
   ]
  },
  {
   "cell_type": "code",
   "execution_count": 33,
   "metadata": {},
   "outputs": [
    {
     "data": {
      "text/plain": [
       "['/Users/a0171639/bases/tools/python/workbooks/pcap/mock exam',\n",
       " '/Users/a0171639/bases/EAW_DataOps/aws/py_tools',\n",
       " '/opt/homebrew/Cellar/python@3.9/3.9.16/Frameworks/Python.framework/Versions/3.9/lib/python39.zip',\n",
       " '/opt/homebrew/Cellar/python@3.9/3.9.16/Frameworks/Python.framework/Versions/3.9/lib/python3.9',\n",
       " '/opt/homebrew/Cellar/python@3.9/3.9.16/Frameworks/Python.framework/Versions/3.9/lib/python3.9/lib-dynload',\n",
       " '',\n",
       " '/Users/a0171639/Library/Python/3.9/lib/python/site-packages',\n",
       " '/opt/homebrew/lib/python3.9/site-packages']"
      ]
     },
     "execution_count": 33,
     "metadata": {},
     "output_type": "execute_result"
    }
   ],
   "source": [
    "import sys\n",
    "sys.path"
   ]
  },
  {
   "cell_type": "code",
   "execution_count": 37,
   "metadata": {},
   "outputs": [
    {
     "name": "stdout",
     "output_type": "stream",
     "text": [
      "1\n"
     ]
    }
   ],
   "source": [
    "x = {(1, 2): 1, (2, 3): 2}\n",
    "print(x[(1, 2)])"
   ]
  },
  {
   "cell_type": "code",
   "execution_count": 41,
   "metadata": {},
   "outputs": [
    {
     "name": "stdout",
     "output_type": "stream",
     "text": [
      "4\n",
      "1\n"
     ]
    }
   ],
   "source": [
    "l = [x for x in range(1, 10, 3) if x % 2 == 0]\n",
    "for value in l:\n",
    "    print(value)\n",
    "print(len(l))"
   ]
  },
  {
   "cell_type": "code",
   "execution_count": 42,
   "metadata": {},
   "outputs": [
    {
     "name": "stdout",
     "output_type": "stream",
     "text": [
      "1\n"
     ]
    }
   ],
   "source": [
    "try:\n",
    "    raise Exception\n",
    "except BaseException:\n",
    "    print('1')\n",
    "except Exception:\n",
    "    print('2')\n",
    "except:\n",
    "    print('3')"
   ]
  },
  {
   "cell_type": "code",
   "execution_count": 43,
   "metadata": {},
   "outputs": [
    {
     "name": "stdout",
     "output_type": "stream",
     "text": [
      "True\n",
      "False\n",
      "True\n",
      "False\n",
      "True\n"
     ]
    }
   ],
   "source": [
    "print(not 0)\n",
    "print(not 23)\n",
    "print(not '')\n",
    "print(not 'Peter')\n",
    "print(not None)"
   ]
  },
  {
   "cell_type": "code",
   "execution_count": 44,
   "metadata": {},
   "outputs": [
    {
     "name": "stdout",
     "output_type": "stream",
     "text": [
      "__main__\n"
     ]
    }
   ],
   "source": [
    "class Example:\n",
    "    def __str__(self):\n",
    "        return __name__\n",
    " \n",
    " \n",
    "thing = Example()\n",
    "print(thing)"
   ]
  },
  {
   "cell_type": "code",
   "execution_count": 45,
   "metadata": {},
   "outputs": [
    {
     "ename": "NameError",
     "evalue": "name '__module__' is not defined",
     "output_type": "error",
     "traceback": [
      "\u001b[0;31m---------------------------------------------------------------------------\u001b[0m",
      "\u001b[0;31mNameError\u001b[0m                                 Traceback (most recent call last)",
      "Cell \u001b[0;32mIn[45], line 7\u001b[0m\n\u001b[1;32m      3\u001b[0m         \u001b[39mreturn\u001b[39;00m \u001b[39m__module__\u001b[39m\n\u001b[1;32m      6\u001b[0m thing \u001b[39m=\u001b[39m Example()\n\u001b[0;32m----> 7\u001b[0m \u001b[39mprint\u001b[39;49m(thing)\n",
      "Cell \u001b[0;32mIn[45], line 3\u001b[0m, in \u001b[0;36mExample.__str__\u001b[0;34m(self)\u001b[0m\n\u001b[1;32m      2\u001b[0m \u001b[39mdef\u001b[39;00m \u001b[39m__str__\u001b[39m(\u001b[39mself\u001b[39m):\n\u001b[0;32m----> 3\u001b[0m     \u001b[39mreturn\u001b[39;00m \u001b[39m__module__\u001b[39;49m\n",
      "\u001b[0;31mNameError\u001b[0m: name '__module__' is not defined"
     ]
    }
   ],
   "source": [
    "class Example:\n",
    "    def __str__(self):\n",
    "        return __module__\n",
    " \n",
    " \n",
    "thing = Example()\n",
    "print(thing)"
   ]
  },
  {
   "cell_type": "code",
   "execution_count": 48,
   "metadata": {},
   "outputs": [
    {
     "data": {
      "text/plain": [
       "0"
      ]
     },
     "execution_count": 48,
     "metadata": {},
     "output_type": "execute_result"
    }
   ],
   "source": [
    "103 % 1"
   ]
  },
  {
   "cell_type": "code",
   "execution_count": 50,
   "metadata": {},
   "outputs": [
    {
     "name": "stdout",
     "output_type": "stream",
     "text": [
      "42\n"
     ]
    }
   ],
   "source": [
    "data = [[42, 17, 23, 13], [11, 9, 3, 7]]\n",
    "res = data[0][0]\n",
    "for da in data:\n",
    "    for d in da:\n",
    "        if res < d:\n",
    "            res = d\n",
    "print(res)"
   ]
  }
 ],
 "metadata": {
  "kernelspec": {
   "display_name": "Python 3",
   "language": "python",
   "name": "python3"
  },
  "language_info": {
   "codemirror_mode": {
    "name": "ipython",
    "version": 3
   },
   "file_extension": ".py",
   "mimetype": "text/x-python",
   "name": "python",
   "nbconvert_exporter": "python",
   "pygments_lexer": "ipython3",
   "version": "3.9.16"
  },
  "orig_nbformat": 4
 },
 "nbformat": 4,
 "nbformat_minor": 2
}
