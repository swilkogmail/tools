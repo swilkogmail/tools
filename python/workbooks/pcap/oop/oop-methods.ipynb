{
 "cells": [
  {
   "cell_type": "code",
   "execution_count": 12,
   "metadata": {},
   "outputs": [],
   "source": [
    "class Doctor():\n",
    "    def __init__(self, first_name = 'John', last_name = 'Smith'):\n",
    "        self.first_name = first_name\n",
    "        self.last_name = last_name\n",
    "        self.__format_names()\n",
    "\n",
    "    def __format_names(self):\n",
    "        self.first_name = self.first_name.title()\n",
    "        self.last_name = self.last_name.title()\n",
    "\n",
    "    def introduce(self):\n",
    "        print(f\"Hi I am {self.first_name}\")\n",
    "    \n",
    "    def compare_names(self, name_to_compare):\n",
    "        if self.first_name == name_to_compare:\n",
    "            print(f\"We have the name names\")\n",
    "        else:\n",
    "            print(\"Sorry my name is different\")\n",
    "\n",
    "    def get_first_last_name_together(self):\n",
    "        return self.first_name + ' ' + self.last_name\n",
    "    \n",
    "    def __str__(self):\n",
    "        return f\"Doctor is : {self.first_name} {self.last_name}\""
   ]
  },
  {
   "cell_type": "code",
   "execution_count": 13,
   "metadata": {},
   "outputs": [],
   "source": [
    "doc_steve = Doctor('Steve', 'Wilkins')"
   ]
  },
  {
   "cell_type": "code",
   "execution_count": 14,
   "metadata": {},
   "outputs": [
    {
     "name": "stdout",
     "output_type": "stream",
     "text": [
      "Hi I am Steve\n"
     ]
    }
   ],
   "source": [
    "doc_steve.introduce()"
   ]
  },
  {
   "cell_type": "code",
   "execution_count": 15,
   "metadata": {},
   "outputs": [
    {
     "name": "stdout",
     "output_type": "stream",
     "text": [
      "Sorry my name is different\n"
     ]
    }
   ],
   "source": [
    "doc_steve.compare_names('John')"
   ]
  },
  {
   "cell_type": "code",
   "execution_count": 16,
   "metadata": {},
   "outputs": [
    {
     "data": {
      "text/plain": [
       "{'first_name': 'Steve', 'last_name': 'Wilkins'}"
      ]
     },
     "execution_count": 16,
     "metadata": {},
     "output_type": "execute_result"
    }
   ],
   "source": [
    "doc_steve.__dict__"
   ]
  },
  {
   "cell_type": "code",
   "execution_count": 17,
   "metadata": {},
   "outputs": [
    {
     "data": {
      "text/plain": [
       "mappingproxy({'__module__': '__main__',\n",
       "              '__init__': <function __main__.Doctor.__init__(self, first_name='John', last_name='Smith')>,\n",
       "              '_Doctor__format_names': <function __main__.Doctor.__format_names(self)>,\n",
       "              'introduce': <function __main__.Doctor.introduce(self)>,\n",
       "              'compare_names': <function __main__.Doctor.compare_names(self, name_to_compare)>,\n",
       "              'get_first_last_name_together': <function __main__.Doctor.get_first_last_name_together(self)>,\n",
       "              '__str__': <function __main__.Doctor.__str__(self)>,\n",
       "              '__dict__': <attribute '__dict__' of 'Doctor' objects>,\n",
       "              '__weakref__': <attribute '__weakref__' of 'Doctor' objects>,\n",
       "              '__doc__': None})"
      ]
     },
     "execution_count": 17,
     "metadata": {},
     "output_type": "execute_result"
    }
   ],
   "source": [
    "Doctor.__dict__"
   ]
  },
  {
   "cell_type": "code",
   "execution_count": 18,
   "metadata": {},
   "outputs": [
    {
     "name": "stdout",
     "output_type": "stream",
     "text": [
      "Doctor is : Steve Wilkins\n"
     ]
    }
   ],
   "source": [
    "print(doc_steve)"
   ]
  }
 ],
 "metadata": {
  "kernelspec": {
   "display_name": "Python 3",
   "language": "python",
   "name": "python3"
  },
  "language_info": {
   "codemirror_mode": {
    "name": "ipython",
    "version": 3
   },
   "file_extension": ".py",
   "mimetype": "text/x-python",
   "name": "python",
   "nbconvert_exporter": "python",
   "pygments_lexer": "ipython3",
   "version": "3.9.18"
  },
  "orig_nbformat": 4
 },
 "nbformat": 4,
 "nbformat_minor": 2
}
