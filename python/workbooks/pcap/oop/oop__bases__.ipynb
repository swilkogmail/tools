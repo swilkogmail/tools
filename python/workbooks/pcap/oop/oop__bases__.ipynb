{
 "cells": [
  {
   "cell_type": "code",
   "execution_count": 6,
   "metadata": {},
   "outputs": [],
   "source": [
    "class Vehicle():\n",
    "   pass\n",
    "        \n",
    "class Rideable():\n",
    "   pass\n",
    "      \n",
    "class PetrolVehicle(Vehicle):\n",
    "   pass\n",
    "        \n",
    "class Car(PetrolVehicle, Rideable):\n",
    "   pass"
   ]
  },
  {
   "attachments": {},
   "cell_type": "markdown",
   "metadata": {},
   "source": [
    "These two classes have no base classes defined within their brackets. However, you will see __bases__ return (<class 'object'>,) for them. The reason why these classes inherit automatically from object is mostly historical. You do not need to worry about it in any way -- just keep in mind you will see object returned by __bases__ in such cases."
   ]
  },
  {
   "cell_type": "code",
   "execution_count": 7,
   "metadata": {},
   "outputs": [
    {
     "name": "stdout",
     "output_type": "stream",
     "text": [
      "(<class 'object'>,)\n",
      "(<class 'object'>,)\n"
     ]
    }
   ],
   "source": [
    "print(Vehicle.__bases__)\n",
    "print(Rideable.__bases__)"
   ]
  },
  {
   "attachments": {},
   "cell_type": "markdown",
   "metadata": {},
   "source": [
    "This will return (<class '__main__.Vehicle'>,), as Vehicle is the only direct parent class for PetrolVehicle."
   ]
  },
  {
   "cell_type": "code",
   "execution_count": 8,
   "metadata": {},
   "outputs": [
    {
     "name": "stdout",
     "output_type": "stream",
     "text": [
      "(<class '__main__.Vehicle'>,)\n"
     ]
    }
   ],
   "source": [
    "print(PetrolVehicle.__bases__)"
   ]
  },
  {
   "attachments": {},
   "cell_type": "markdown",
   "metadata": {},
   "source": [
    "This will return (<class '__main__.PetrolVehicle'>, <class '__main__.Rideable'>), as Car has two direct parent classes: PetrolVehicle and Rideable. We cannot see Vehicle here because Car inherits from it indirectly through PetrolVehicle."
   ]
  },
  {
   "cell_type": "code",
   "execution_count": 9,
   "metadata": {},
   "outputs": [
    {
     "name": "stdout",
     "output_type": "stream",
     "text": [
      "(<class '__main__.PetrolVehicle'>, <class '__main__.Rideable'>)\n"
     ]
    }
   ],
   "source": [
    "print(Car.__bases__)"
   ]
  }
 ],
 "metadata": {
  "kernelspec": {
   "display_name": "Python 3",
   "language": "python",
   "name": "python3"
  },
  "language_info": {
   "codemirror_mode": {
    "name": "ipython",
    "version": 3
   },
   "file_extension": ".py",
   "mimetype": "text/x-python",
   "name": "python",
   "nbconvert_exporter": "python",
   "pygments_lexer": "ipython3",
   "version": "3.9.16"
  },
  "orig_nbformat": 4
 },
 "nbformat": 4,
 "nbformat_minor": 2
}
