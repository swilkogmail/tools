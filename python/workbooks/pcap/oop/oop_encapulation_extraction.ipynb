{
 "cells": [
  {
   "attachments": {},
   "cell_type": "markdown",
   "metadata": {},
   "source": [
    "__speed is kept private so it can't be set directly.  This is encapulation - keeping an attribute private and only manipuliating it via methods thar are exposed.  In addition the implementation of the method is only hidden from the user."
   ]
  },
  {
   "cell_type": "code",
   "execution_count": 52,
   "metadata": {},
   "outputs": [],
   "source": [
    "class Car():\n",
    "    def __init__(self, model, colour, initial_speed = 0):\n",
    "        self.model = model\n",
    "        self.colour = colour\n",
    "        if initial_speed < 0:\n",
    "            self.__speed = 0\n",
    "        else:\n",
    "            self.__speed = initial_speed\n",
    "\n",
    "    def speed_up(self):\n",
    "        self.__speed += 5\n",
    "\n",
    "    def slow_down(self):\n",
    "        if self.__speed < 5:\n",
    "            self.__speed = 0\n",
    "        else:\n",
    "            self.__speed -= 5\n",
    "\n",
    "    def show_speed(self):\n",
    "        print(f\"Current speed: {self.__speed}\")"
   ]
  },
  {
   "cell_type": "code",
   "execution_count": 54,
   "metadata": {},
   "outputs": [],
   "source": [
    "my_car = Car('T-Roc', 'red', -10)"
   ]
  },
  {
   "cell_type": "code",
   "execution_count": 55,
   "metadata": {},
   "outputs": [],
   "source": [
    "my_car.speed_up()"
   ]
  },
  {
   "cell_type": "code",
   "execution_count": 65,
   "metadata": {},
   "outputs": [
    {
     "name": "stdout",
     "output_type": "stream",
     "text": [
      "Current speed: 5\n"
     ]
    }
   ],
   "source": [
    "my_car.show_speed()"
   ]
  },
  {
   "cell_type": "code",
   "execution_count": 45,
   "metadata": {},
   "outputs": [],
   "source": [
    "my_car.slow_down()"
   ]
  },
  {
   "cell_type": "code",
   "execution_count": 64,
   "metadata": {},
   "outputs": [],
   "source": [
    "my_car.speed = -10"
   ]
  }
 ],
 "metadata": {
  "kernelspec": {
   "display_name": "Python 3",
   "language": "python",
   "name": "python3"
  },
  "language_info": {
   "codemirror_mode": {
    "name": "ipython",
    "version": 3
   },
   "file_extension": ".py",
   "mimetype": "text/x-python",
   "name": "python",
   "nbconvert_exporter": "python",
   "pygments_lexer": "ipython3",
   "version": "3.9.16"
  },
  "orig_nbformat": 4
 },
 "nbformat": 4,
 "nbformat_minor": 2
}
