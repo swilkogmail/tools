{
 "cells": [
  {
   "attachments": {},
   "cell_type": "markdown",
   "metadata": {},
   "source": [
    "The class Hybrid Vehicle has two parent classes, both have a method called show_power_type.  "
   ]
  },
  {
   "cell_type": "code",
   "execution_count": 5,
   "metadata": {},
   "outputs": [],
   "source": [
    "class Vehicle():\n",
    "    def show_power_type(self):\n",
    "        print (\"I can use power from various sources\")\n",
    "\n",
    "class ElectricVehicle(Vehicle):\n",
    "    def show_power_type(self):\n",
    "        print (\"I can use power from electricity\")  \n",
    "\n",
    "class PetrolVehicle(Vehicle):\n",
    "    def show_power_type(self):\n",
    "        print (\"I can use power from petrol\")\n",
    "\n",
    "class HybridCar(ElectricVehicle, PetrolVehicle):\n",
    "        pass"
   ]
  },
  {
   "attachments": {},
   "cell_type": "markdown",
   "metadata": {},
   "source": [
    "MRO is used so will use the methods from Electric Veihicle"
   ]
  },
  {
   "cell_type": "code",
   "execution_count": 6,
   "metadata": {},
   "outputs": [
    {
     "name": "stdout",
     "output_type": "stream",
     "text": [
      "I can use power from electricity\n"
     ]
    }
   ],
   "source": [
    "my_hybrid = HybridCar()\n",
    "my_hybrid.show_power_type()"
   ]
  },
  {
   "cell_type": "code",
   "execution_count": 7,
   "metadata": {},
   "outputs": [],
   "source": [
    "class Vehicle():\n",
    "    def show_power_type(self):\n",
    "        print (\"I can use power from various sources\")\n",
    "\n",
    "class ElectricVehicle(Vehicle):\n",
    "    def show_power_type(self):\n",
    "        print (\"I can use power from electricity\")  \n",
    "\n",
    "class PetrolVehicle(Vehicle):\n",
    "    def show_power_type(self):\n",
    "        print (\"I can use power from petrol\")\n",
    "\n",
    "class HybridCar(PetrolVehicle, ElectricVehicle):\n",
    "        pass"
   ]
  },
  {
   "cell_type": "code",
   "execution_count": 8,
   "metadata": {},
   "outputs": [
    {
     "name": "stdout",
     "output_type": "stream",
     "text": [
      "I can use power from petrol\n"
     ]
    }
   ],
   "source": [
    "my_hybrid = HybridCar()\n",
    "my_hybrid.show_power_type()"
   ]
  }
 ],
 "metadata": {
  "kernelspec": {
   "display_name": "Python 3",
   "language": "python",
   "name": "python3"
  },
  "language_info": {
   "codemirror_mode": {
    "name": "ipython",
    "version": 3
   },
   "file_extension": ".py",
   "mimetype": "text/x-python",
   "name": "python",
   "nbconvert_exporter": "python",
   "pygments_lexer": "ipython3",
   "version": "3.9.16"
  },
  "orig_nbformat": 4
 },
 "nbformat": 4,
 "nbformat_minor": 2
}
