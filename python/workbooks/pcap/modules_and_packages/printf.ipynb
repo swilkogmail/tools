{
 "cells": [
  {
   "cell_type": "code",
   "execution_count": 33,
   "metadata": {},
   "outputs": [
    {
     "ename": "SyntaxError",
     "evalue": "invalid syntax (1026084517.py, line 1)",
     "output_type": "error",
     "traceback": [
      "\u001b[0;36m  Cell \u001b[0;32mIn[33], line 1\u001b[0;36m\u001b[0m\n\u001b[0;31m    This question is about string formatting by % in the so called printf-style.\u001b[0m\n\u001b[0m         ^\u001b[0m\n\u001b[0;31mSyntaxError\u001b[0m\u001b[0;31m:\u001b[0m invalid syntax\n"
     ]
    }
   ],
   "source": [
    "This question is about string formatting by % in the so called printf-style.\n",
    "\n",
    "%-20s\n",
    "\n",
    "The minus sign is for the left-alignment.\n",
    "\n",
    "The 20 stands for 20 characters.\n",
    "\n",
    "The s stands for string\n",
    "\n",
    "%4.1f\n",
    "\n",
    "The 4 stands for a minimum of 4 characters.\n",
    "\n",
    "The .1 stands for 1 decimal place.\n",
    "\n",
    "The f stands for float format."
   ]
  },
  {
   "cell_type": "code",
   "execution_count": null,
   "metadata": {},
   "outputs": [
    {
     "name": "stdout",
     "output_type": "stream",
     "text": [
      "Peter               , your average score is: 172.2\n",
      "            20000000, ... 1556.9\n",
      "20000000            , ... 1556.9\n",
      "20000000.00         , ... 1556.88778\n",
      "Peter               , ... 172.\n",
      "Peter               , ... 172.2500\n",
      "Peter               , ...    1\n",
      "My name is Peter and I am 30 years old.\n",
      "My name is Peter and I am 30 years old.\n"
     ]
    }
   ],
   "source": [
    "# name = input('What is your name?')\n",
    "name = 'Peter'  # Just for convenience\n",
    "sum = 0\n",
    "score = 0\n",
    "count = 0\n",
    "\"\"\"\n",
    "while score != -1:\n",
    "    score = int(input('Enter your scores: (-1 to end)'))\n",
    "    if score == -1:\n",
    "        break\n",
    "    sum += score\n",
    "    count += 1\n",
    "\"\"\"\n",
    "sum = 120 + 180 + 165 + 224  # Just for convenience\n",
    "count = 4  # Just for convenience\n",
    "average = sum / count\n",
    "print('%-20s, your average score is: %4.1f' % (name, average))\n",
    "# # Peter , your average score is: 172.2\n",
    " \n",
    "print('%20i, ... %4.1f' % (20000000, 1556.8877767))\n",
    "print('%-20.7d, ... %4.1f' % (20000000.888, 1556.8877767))\n",
    "print('%-20.2f, ... %4.5f' % (20000000, 1556.8877767))\n",
    "\n",
    "\n",
    "print('%-20s, ... %1.4s' % (name, average))   # ... 172.\n",
    "print('%-20s, ... %1.4f' % (name, average))   # ... 172.2500\n",
    "print('%-20s, ... %4.1s' % (name, average))   # ... 1\n",
    " \n",
    "# Other possibilities to format a string in Python:\n",
    "name, age = 'Peter', 30\n",
    "print(f'My name is {name} and I am {age} years old.')\n",
    "# My name is Peter and I am 30 years old.\n",
    "s = 'My name is {name} and I am {age} years old.'\n",
    "print(s.format(name='Peter', age=30))\n",
    "# My name is Peter and I am 30 years old."
   ]
  }
 ],
 "metadata": {
  "kernelspec": {
   "display_name": "Python 3",
   "language": "python",
   "name": "python3"
  },
  "language_info": {
   "codemirror_mode": {
    "name": "ipython",
    "version": 3
   },
   "file_extension": ".py",
   "mimetype": "text/x-python",
   "name": "python",
   "nbconvert_exporter": "python",
   "pygments_lexer": "ipython3",
   "version": "3.9.6"
  },
  "orig_nbformat": 4
 },
 "nbformat": 4,
 "nbformat_minor": 2
}
