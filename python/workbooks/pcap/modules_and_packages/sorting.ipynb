{
 "cells": [
  {
   "attachments": {},
   "cell_type": "markdown",
   "metadata": {},
   "source": [
    "SORT() is a method - SORTED() is a function which takes anything as input and returns a sorted list.  SORT() sorts inplace and SORTED() needs to be assigned to a new list and then joined back together (if you want a sorted string)."
   ]
  },
  {
   "attachments": {},
   "cell_type": "markdown",
   "metadata": {},
   "source": [
    "sort() sorts the list in place. sort is a list method not a string method (lists are mutable). the list remains sorted"
   ]
  },
  {
   "cell_type": "code",
   "execution_count": 1,
   "metadata": {},
   "outputs": [
    {
     "name": "stdout",
     "output_type": "stream",
     "text": [
      "['z', 'y', 'x']\n",
      "['x', 'y', 'z']\n"
     ]
    }
   ],
   "source": [
    "letters = 'zyx'\n",
    "d_letters = {1 :'zyx', 3: 'abc', 2 : 'fgh'}\n",
    "tup_letters = ('z','x','r')\n",
    "\n",
    "# letters.sort()  # not allowed as strings are immutable\n",
    "# d_letters.sort()  # there is no sort attribute for dictionaries\n",
    "# tup_letters.sort()  # there is no sort attribute for tuples - they are immutable\n",
    " \n",
    "tmp = list(letters)\n",
    "print(tmp)  # ['z', 'y', 'x']\n",
    "tmp.sort()\n",
    "print(tmp)"
   ]
  },
  {
   "attachments": {},
   "cell_type": "markdown",
   "metadata": {},
   "source": [
    "The sorted function returns a sorted list"
   ]
  },
  {
   "cell_type": "code",
   "execution_count": 2,
   "metadata": {},
   "outputs": [
    {
     "name": "stdout",
     "output_type": "stream",
     "text": [
      "['x', 'y', 'z']\n",
      "['x', 'y', 'z']\n",
      "['x', 'y', 'z']\n",
      "[1, 2, 3]\n",
      "['abc', 'fgh', 'zyx']\n",
      "xyz\n"
     ]
    }
   ],
   "source": [
    "letters = 'zyx'\n",
    "l_letters = ['x','y','z']\n",
    "tup_letters = ('x','y','z')\n",
    "d_letters = {1 :'zyx', 3: 'abc', 2 : 'fgh'}\n",
    "set_letters = {'zyx','abc','fgh'}\n",
    "\n",
    "tmp = sorted(letters)\n",
    "print(tmp)\n",
    "\n",
    "tmp = sorted(l_letters)\n",
    "print(tmp)\n",
    "\n",
    "tmp = sorted(tup_letters)\n",
    "print(tmp)\n",
    "\n",
    "tmp = sorted(d_letters)\n",
    "print(tmp)\n",
    "\n",
    "tmp = sorted(set_letters)\n",
    "print(tmp) \n",
    "\n",
    "new_string = ''.join(sorted(tup_letters))\n",
    "print(new_string)  # xyz\n",
    "# The sorted() function returns a sorted list.\n",
    "# The join() method turns the list into a string again.\n"
   ]
  },
  {
   "cell_type": "code",
   "execution_count": 3,
   "metadata": {},
   "outputs": [
    {
     "name": "stdout",
     "output_type": "stream",
     "text": [
      "[1, 2, 3, 4, 5, 6, 7, 8, 9, 10]\n",
      "The highest number is 10 and the lowest number is 1.\n"
     ]
    }
   ],
   "source": [
    "data = [10, 2, 1, 7, 5, 6, 4, 3, 9, 8]\n",
    " \n",
    "def find_high_low(nums):\n",
    "    nums.sort()\n",
    "    print(nums)                        \n",
    "    # [1, 2, 3, 4, 5, 6, 7, 8, 9, 10]\n",
    "    return nums[-1], nums[0]\n",
    "    # return nums[len(nums)], nums[0]\n",
    "    # IndexError: list index out of range\n",
    "    # return nums[0], nums[-1]\n",
    "    # high and low are interchanged\n",
    " \n",
    "high, low = find_high_low(data)\n",
    " \n",
    "print(\n",
    "    ('The highest number is {} ' +\n",
    "     'and the lowest number is {}.').format(high, low)\n",
    ")\n",
    "# The highest number is 10 and the lowest number is 1."
   ]
  },
  {
   "cell_type": "code",
   "execution_count": 6,
   "metadata": {},
   "outputs": [
    {
     "name": "stdout",
     "output_type": "stream",
     "text": [
      "eehnpst\n",
      "stephen\n"
     ]
    }
   ],
   "source": [
    "my_string = 'stephen'\n",
    "my_sorted_string = sorted(my_string) # returns a list\n",
    "print(''.join(my_sorted_string))\n",
    "print(my_string)"
   ]
  },
  {
   "cell_type": "code",
   "execution_count": 30,
   "metadata": {},
   "outputs": [
    {
     "name": "stdout",
     "output_type": "stream",
     "text": [
      "['s', 't', 'e', 'p', 'h', 'e', 'n']\n",
      "['e', 'e', 'h', 'n', 'p', 's', 't']\n",
      "eehnpst\n"
     ]
    }
   ],
   "source": [
    "my_string = 'stephen'\n",
    "# my_string.sort()  this will error as it's a list function and we have a string\n",
    "my_list = list(my_string)\n",
    "print(my_list)\n",
    "my_list.sort()\n",
    "print(my_list)\n",
    "print(''.join(my_list))"
   ]
  }
 ],
 "metadata": {
  "kernelspec": {
   "display_name": "Python 3",
   "language": "python",
   "name": "python3"
  },
  "language_info": {
   "codemirror_mode": {
    "name": "ipython",
    "version": 3
   },
   "file_extension": ".py",
   "mimetype": "text/x-python",
   "name": "python",
   "nbconvert_exporter": "python",
   "pygments_lexer": "ipython3",
   "version": "3.9.16"
  },
  "orig_nbformat": 4
 },
 "nbformat": 4,
 "nbformat_minor": 2
}
