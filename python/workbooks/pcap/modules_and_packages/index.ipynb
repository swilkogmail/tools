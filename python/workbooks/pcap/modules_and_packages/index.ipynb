{
 "cells": [
  {
   "attachments": {},
   "cell_type": "markdown",
   "metadata": {},
   "source": [
    "index is a method that can be called against strings, lists and tuples.  Not sets or dicts"
   ]
  },
  {
   "cell_type": "code",
   "execution_count": 90,
   "metadata": {},
   "outputs": [
    {
     "name": "stdout",
     "output_type": "stream",
     "text": [
      "I'm gonna make him an offer he can't refuse.\n",
      "[\"I'm\", 'gonna', 'make', 'him', 'an', 'offer', 'he', \"can't\", 'refuse.']\n",
      "(\"I'm\", 'gonna', 'make', 'him', 'an', 'offer', 'he', \"can't\", 'refuse.')\n",
      "{'an', 'he', 'him', \"can't\", 'gonna', \"I'm\", 'offer', 'refuse.', 'make'}\n",
      "{1: 'zyx', 3: 'abc', 2: 'fgh'}\n"
     ]
    }
   ],
   "source": [
    "data = \"I'm gonna make him an offer he can't refuse.\"\n",
    "print(data)\n",
    "data_list = data.split(' ')\n",
    "print(data_list)\n",
    "tup_list = tuple(data_list)\n",
    "print(tup_list)\n",
    "set_list = set(data_list)\n",
    "print(set_list)\n",
    "d_letters = {1 :'zyx', 3: 'abc', 2 : 'fgh'}\n",
    "print(d_letters)"
   ]
  },
  {
   "attachments": {},
   "cell_type": "markdown",
   "metadata": {},
   "source": [
    "index will return the index of the first occurrance of a string in string"
   ]
  },
  {
   "cell_type": "code",
   "execution_count": 91,
   "metadata": {},
   "outputs": [
    {
     "name": "stdout",
     "output_type": "stream",
     "text": [
      "19\n",
      "4\n",
      "4\n"
     ]
    }
   ],
   "source": [
    "print(data.index('an'))\n",
    "print(data_list.index('an'))\n",
    "print(tup_list.index('an'))"
   ]
  },
  {
   "attachments": {},
   "cell_type": "markdown",
   "metadata": {},
   "source": [
    "index will return the first occurence of a string in string from the lhs"
   ]
  },
  {
   "cell_type": "code",
   "execution_count": 92,
   "metadata": {},
   "outputs": [
    {
     "data": {
      "text/plain": [
       "19"
      ]
     },
     "execution_count": 92,
     "metadata": {},
     "output_type": "execute_result"
    }
   ],
   "source": [
    "data.index('an')"
   ]
  },
  {
   "attachments": {},
   "cell_type": "markdown",
   "metadata": {},
   "source": [
    "this says: find the index of the first occurrence of 'an', i.e. 19 if data is true else return None.  Data is true as it's none null."
   ]
  },
  {
   "cell_type": "code",
   "execution_count": 93,
   "metadata": {},
   "outputs": [
    {
     "name": "stdout",
     "output_type": "stream",
     "text": [
      "19\n"
     ]
    }
   ],
   "source": [
    "print(data.index('an') if data else None)"
   ]
  },
  {
   "attachments": {},
   "cell_type": "markdown",
   "metadata": {},
   "source": [
    "see below if there is a false values in the conditional statement"
   ]
  },
  {
   "cell_type": "code",
   "execution_count": 94,
   "metadata": {},
   "outputs": [
    {
     "name": "stdout",
     "output_type": "stream",
     "text": [
      "None\n"
     ]
    }
   ],
   "source": [
    "null_string = ''\n",
    "print(data.index('an') if null_string else None)"
   ]
  },
  {
   "cell_type": "code",
   "execution_count": 95,
   "metadata": {},
   "outputs": [
    {
     "name": "stdout",
     "output_type": "stream",
     "text": [
      "None\n"
     ]
    }
   ],
   "source": [
    "f = False\n",
    "print(data.index('an') if null_string else None)"
   ]
  },
  {
   "attachments": {},
   "cell_type": "markdown",
   "metadata": {},
   "source": [
    "If the string is not found then an Valueerror is returned."
   ]
  },
  {
   "cell_type": "code",
   "execution_count": 96,
   "metadata": {},
   "outputs": [
    {
     "ename": "ValueError",
     "evalue": "substring not found",
     "output_type": "error",
     "traceback": [
      "\u001b[0;31m---------------------------------------------------------------------------\u001b[0m",
      "\u001b[0;31mValueError\u001b[0m                                Traceback (most recent call last)",
      "Cell \u001b[0;32mIn[96], line 2\u001b[0m\n\u001b[1;32m      1\u001b[0m data \u001b[39m=\u001b[39m \u001b[39m\"\u001b[39m\u001b[39mI\u001b[39m\u001b[39m'\u001b[39m\u001b[39mm gonna make him an offer he can\u001b[39m\u001b[39m'\u001b[39m\u001b[39mt refuse.\u001b[39m\u001b[39m\"\u001b[39m\n\u001b[0;32m----> 2\u001b[0m \u001b[39mprint\u001b[39m(data\u001b[39m.\u001b[39;49mindex(\u001b[39m'\u001b[39;49m\u001b[39mnofind\u001b[39;49m\u001b[39m'\u001b[39;49m) \u001b[39mif\u001b[39;00m data \u001b[39melse\u001b[39;00m \u001b[39mNone\u001b[39;00m)\n",
      "\u001b[0;31mValueError\u001b[0m: substring not found"
     ]
    }
   ],
   "source": [
    "data = \"I'm gonna make him an offer he can't refuse.\"\n",
    "print(data.index('nofind') if data else None)"
   ]
  }
 ],
 "metadata": {
  "kernelspec": {
   "display_name": "Python 3",
   "language": "python",
   "name": "python3"
  },
  "language_info": {
   "codemirror_mode": {
    "name": "ipython",
    "version": 3
   },
   "file_extension": ".py",
   "mimetype": "text/x-python",
   "name": "python",
   "nbconvert_exporter": "python",
   "pygments_lexer": "ipython3",
   "version": "3.9.6"
  },
  "orig_nbformat": 4
 },
 "nbformat": 4,
 "nbformat_minor": 2
}
