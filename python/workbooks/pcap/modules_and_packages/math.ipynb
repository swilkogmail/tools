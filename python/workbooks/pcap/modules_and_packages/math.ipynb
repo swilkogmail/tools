{
 "cells": [
  {
   "attachments": {},
   "cell_type": "markdown",
   "metadata": {},
   "source": [
    "You are creating a function that manipulates a number.\n",
    "The function has the following requirements:\n",
    "\n",
    "A float is passed into the function.\n",
    "The function must take the absolute value of the float.\n",
    "Any decimal points after the integer must be removed.\n",
    "\n",
    "\n",
    "Which math functions should you use?\n",
    "Each correct answer is part of the solution."
   ]
  },
  {
   "cell_type": "code",
   "execution_count": 5,
   "metadata": {},
   "outputs": [
    {
     "name": "stdout",
     "output_type": "stream",
     "text": [
      "23\n",
      "23\n",
      "4\n",
      "4.56\n",
      "(0.5, 3)\n",
      "1.0\n",
      "4\n"
     ]
    }
   ],
   "source": [
    "def get_absolute_integer(num):\n",
    "    import math\n",
    "    return math.floor(math.fabs(num))\n",
    "\n",
    "print(get_absolute_integer(-23.42))  # 23\n",
    "print(get_absolute_integer(-23.99))  # 23\n",
    " \n",
    "import math\n",
    "# floor and ceil return and integer\n",
    "print(math.floor(4.9))  # 4 => rounds a number down to the nearest integer\n",
    "print(math.fabs(-4.56))    # 4.0  => fabs() returns the float value of the absolute value.\n",
    "print(math.frexp(4))    # (0.5, 3) => returns the mantissa and the exponent.\n",
    "print(math.fmod(7, 2))  # 1.0 => returns the float value of the remainder.\n",
    "print(math.ceil(3.1))   # 4 =>  rounds a number up to the nearest integer"
   ]
  },
  {
   "attachments": {},
   "cell_type": "markdown",
   "metadata": {},
   "source": [
    "pow takes two arguments. The code below will raise Typeerror"
   ]
  },
  {
   "cell_type": "code",
   "execution_count": 6,
   "metadata": {},
   "outputs": [
    {
     "name": "stdout",
     "output_type": "stream",
     "text": [
      "A\n"
     ]
    }
   ],
   "source": [
    "import math\n",
    " \n",
    "try:\n",
    "    print(math.pow(2))\n",
    "except TypeError:\n",
    "    print('A')\n",
    "else:\n",
    "    print('B')"
   ]
  }
 ],
 "metadata": {
  "kernelspec": {
   "display_name": "Python 3",
   "language": "python",
   "name": "python3"
  },
  "language_info": {
   "codemirror_mode": {
    "name": "ipython",
    "version": 3
   },
   "file_extension": ".py",
   "mimetype": "text/x-python",
   "name": "python",
   "nbconvert_exporter": "python",
   "pygments_lexer": "ipython3",
   "version": "3.9.6"
  },
  "orig_nbformat": 4
 },
 "nbformat": 4,
 "nbformat_minor": 2
}
