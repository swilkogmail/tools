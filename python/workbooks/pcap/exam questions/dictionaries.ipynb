{
 "cells": [
  {
   "cell_type": "code",
   "execution_count": 2,
   "metadata": {},
   "outputs": [
    {
     "name": "stdout",
     "output_type": "stream",
     "text": [
      "res number one is: one\n",
      "one\n",
      "two\n",
      "three\n",
      "one\n"
     ]
    }
   ],
   "source": [
    "data = {'one': 'two', 'two': 'three', 'three': 'one'}\n",
    "res = data['three']\n",
    "print(f\"res number one is: {res}\")\n",
    " \n",
    "for _ in range(len(data)):\n",
    "    print(res)  # one - two - three\n",
    "    res = data[res]\n",
    " \n",
    "print(res)      # one"
   ]
  }
 ],
 "metadata": {
  "kernelspec": {
   "display_name": "Python 3",
   "language": "python",
   "name": "python3"
  },
  "language_info": {
   "codemirror_mode": {
    "name": "ipython",
    "version": 3
   },
   "file_extension": ".py",
   "mimetype": "text/x-python",
   "name": "python",
   "nbconvert_exporter": "python",
   "pygments_lexer": "ipython3",
   "version": "3.9.16"
  },
  "orig_nbformat": 4
 },
 "nbformat": 4,
 "nbformat_minor": 2
}
