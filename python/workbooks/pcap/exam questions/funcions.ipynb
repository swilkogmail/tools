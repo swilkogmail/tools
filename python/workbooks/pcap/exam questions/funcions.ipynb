{
 "cells": [
  {
   "cell_type": "code",
   "execution_count": 11,
   "metadata": {},
   "outputs": [
    {
     "name": "stdout",
     "output_type": "stream",
     "text": [
      "0\n",
      "6\n"
     ]
    }
   ],
   "source": [
    "def func(x):\n",
    "    if x == 0:\n",
    "        print(x)\n",
    "        return 0\n",
    "    return x + func(x - 1)\n",
    " \n",
    " \n",
    "print(func(3))"
   ]
  },
  {
   "attachments": {},
   "cell_type": "markdown",
   "metadata": {},
   "source": [
    "func() is a recursive function, because it calls itself.\n",
    "\n",
    "A recursive function is kind of like a loop.\n",
    "\n",
    "Here the condition is x == 0\n",
    "\n",
    "If x becomes 0 the recursive calls come to an end and 0 gets returned Otherwise the function will be called again with an incremented x\n",
    "\n",
    "That will happen three times here.\n",
    "\n",
    "And all those function calls will be added to the original value of x with was 3\n",
    "\n",
    "Once the 0 is reached and the function is not called again, the function calls will become their return values and"
   ]
  },
  {
   "attachments": {},
   "cell_type": "markdown",
   "metadata": {},
   "source": [
    "The key is that x in the recond return is equal to the original value of x - not the value calcuilated inside the loop.\n",
    "\n",
    "func(x - 1) is just treated as a loop"
   ]
  },
  {
   "cell_type": "code",
   "execution_count": 12,
   "metadata": {},
   "outputs": [
    {
     "name": "stdout",
     "output_type": "stream",
     "text": [
      "3\n",
      "2\n",
      "1\n",
      "6\n"
     ]
    }
   ],
   "source": [
    "def func(x):\n",
    "    if x == 0:\n",
    "        return 0\n",
    "    print(x)\n",
    "    return x + func(x - 1)\n",
    "\n",
    " \n",
    "print(func(3))"
   ]
  }
 ],
 "metadata": {
  "kernelspec": {
   "display_name": "Python 3",
   "language": "python",
   "name": "python3"
  },
  "language_info": {
   "codemirror_mode": {
    "name": "ipython",
    "version": 3
   },
   "file_extension": ".py",
   "mimetype": "text/x-python",
   "name": "python",
   "nbconvert_exporter": "python",
   "pygments_lexer": "ipython3",
   "version": "3.9.6"
  },
  "orig_nbformat": 4
 },
 "nbformat": 4,
 "nbformat_minor": 2
}
