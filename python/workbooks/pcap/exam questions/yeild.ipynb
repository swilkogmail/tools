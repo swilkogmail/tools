{
 "cells": [
  {
   "attachments": {},
   "cell_type": "markdown",
   "metadata": {},
   "source": [
    "yeild in the 'wrong' place"
   ]
  },
  {
   "cell_type": "code",
   "execution_count": 13,
   "metadata": {},
   "outputs": [
    {
     "name": "stdout",
     "output_type": "stream",
     "text": [
      "['****']\n",
      "****"
     ]
    }
   ],
   "source": [
    "def func(n):\n",
    "    s = '*'\n",
    "    for i in range(n):\n",
    "        s += s\n",
    "    yield s\n",
    " \n",
    " \n",
    "print(list(x for x in func(2)))\n",
    " \n",
    "for x in func(2):\n",
    "    print(x, end='')\n"
   ]
  },
  {
   "attachments": {},
   "cell_type": "markdown",
   "metadata": {},
   "source": [
    "yield in the 'correct'place"
   ]
  },
  {
   "cell_type": "code",
   "execution_count": 14,
   "metadata": {},
   "outputs": [
    {
     "name": "stdout",
     "output_type": "stream",
     "text": [
      "['**', '****']\n",
      "******"
     ]
    }
   ],
   "source": [
    "def func(n):\n",
    "    s = '*'\n",
    "    for i in range(n):\n",
    "        s += s\n",
    "        yield s\n",
    " \n",
    " \n",
    "print(list(x for x in func(2)))\n",
    " \n",
    "for x in func(2):\n",
    "    print(x, end='')"
   ]
  }
 ],
 "metadata": {
  "kernelspec": {
   "display_name": "Python 3",
   "language": "python",
   "name": "python3"
  },
  "language_info": {
   "codemirror_mode": {
    "name": "ipython",
    "version": 3
   },
   "file_extension": ".py",
   "mimetype": "text/x-python",
   "name": "python",
   "nbconvert_exporter": "python",
   "pygments_lexer": "ipython3",
   "version": "3.9.6"
  },
  "orig_nbformat": 4
 },
 "nbformat": 4,
 "nbformat_minor": 2
}
