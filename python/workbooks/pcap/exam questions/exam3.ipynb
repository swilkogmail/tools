{
 "cells": [
  {
   "cell_type": "code",
   "execution_count": 1,
   "metadata": {},
   "outputs": [
    {
     "name": "stdout",
     "output_type": "stream",
     "text": [
      "1\n"
     ]
    }
   ],
   "source": [
    "pairs = [[2, 1], [-1, -1]]\n",
    "new_pairs = map(lambda p: sorted(p), pairs)\n",
    "print(list(new_pairs)[0][0])"
   ]
  },
  {
   "cell_type": "code",
   "execution_count": 2,
   "metadata": {},
   "outputs": [
    {
     "name": "stdout",
     "output_type": "stream",
     "text": [
      "True\n"
     ]
    }
   ],
   "source": [
    "def boolean(op):\n",
    "    return op(False, True)\n",
    " \n",
    " \n",
    "print(boolean(lambda x,y: x if x else y))"
   ]
  },
  {
   "cell_type": "code",
   "execution_count": 3,
   "metadata": {},
   "outputs": [
    {
     "name": "stdout",
     "output_type": "stream",
     "text": [
      "6\n"
     ]
    }
   ],
   "source": [
    "my_list = [[3-i for i in range(3)] for j in range(3)]\n",
    "result = 0\n",
    " \n",
    "for i in range(3):\n",
    "    result += my_list[i][i]\n",
    " \n",
    "print(result)\n"
   ]
  },
  {
   "cell_type": "code",
   "execution_count": 12,
   "metadata": {},
   "outputs": [],
   "source": [
    "class Top:\n",
    "    value = 3\n",
    " \n",
    "    def say(self):\n",
    "        return self.value\n",
    " \n",
    " \n",
    "class Middle(Top):\n",
    "    value = 2\n",
    " \n",
    " \n",
    "class Bottom(Middle):\n",
    "    def say(self):\n",
    "        return -self.value\n",
    " \n",
    " \n",
    "short = Bottom()\n",
    "tall = Top()\n",
    "average = Middle()"
   ]
  },
  {
   "cell_type": "code",
   "execution_count": 14,
   "metadata": {},
   "outputs": [
    {
     "name": "stdout",
     "output_type": "stream",
     "text": [
      "3\n",
      "False\n",
      "2\n",
      "2\n",
      "-2\n"
     ]
    }
   ],
   "source": [
    "print(tall.say())\n",
    "print(isinstance(average, Bottom))\n",
    "print(short.value)\n",
    "print(average.value)\n",
    "print(short.say())"
   ]
  },
  {
   "cell_type": "code",
   "execution_count": 15,
   "metadata": {},
   "outputs": [
    {
     "name": "stdout",
     "output_type": "stream",
     "text": [
      "6\n"
     ]
    }
   ],
   "source": [
    "data = [(0, 1), (1, 2), (2, 3)]\n",
    "res = sum(i for j, i in data)\n",
    "print(res)"
   ]
  },
  {
   "cell_type": "code",
   "execution_count": 16,
   "metadata": {},
   "outputs": [
    {
     "name": "stdout",
     "output_type": "stream",
     "text": [
      "i from B is 20\n"
     ]
    }
   ],
   "source": [
    "class A:\n",
    "    def __init__(self):\n",
    "        self.calc(10)\n",
    " \n",
    "    def calc(self, i):\n",
    "        self.i = 3 * i\n",
    " \n",
    " \n",
    "class B(A):\n",
    "    def __init__(self):\n",
    "        super().__init__()\n",
    "        print('i from B is', self.i)\n",
    " \n",
    "    def calc(self, i):\n",
    "        self.i = 2 * i\n",
    " \n",
    " \n",
    "b = B()"
   ]
  },
  {
   "attachments": {},
   "cell_type": "markdown",
   "metadata": {},
   "source": [
    "Floor divide will return a float if either of the values are a float otherwise it will return an integer"
   ]
  },
  {
   "cell_type": "code",
   "execution_count": 19,
   "metadata": {},
   "outputs": [
    {
     "name": "stdout",
     "output_type": "stream",
     "text": [
      "2.0\n",
      "0.0\n",
      "0\n"
     ]
    }
   ],
   "source": [
    "x = 4.5\n",
    "y = 2\n",
    "print(x // y)\n",
    "\n",
    "x = 2\n",
    "y = 4.5\n",
    "print(x // y)\n",
    "\n",
    "x = 2\n",
    "y = 4\n",
    "print(x // y)"
   ]
  },
  {
   "cell_type": "code",
   "execution_count": 20,
   "metadata": {},
   "outputs": [],
   "source": [
    "class Un:\n",
    "    value = \"Eins\"\n",
    " \n",
    "    def say(self):\n",
    "        return self.value.lower()\n",
    " \n",
    " \n",
    "class Deux(Un):\n",
    "    value = \"Zwei\"\n",
    " \n",
    " \n",
    "class Troi(Un):\n",
    "    def say(self):\n",
    "        return self.value.upper()\n",
    " \n",
    " \n",
    "class Quatre(Troi, Deux):\n",
    "    pass\n",
    " \n",
    " \n",
    "d = Quatre()\n",
    "b = Deux()"
   ]
  },
  {
   "cell_type": "code",
   "execution_count": 26,
   "metadata": {},
   "outputs": [
    {
     "name": "stdout",
     "output_type": "stream",
     "text": [
      "True\n",
      "Zwei\n",
      "True\n",
      "zwei\n"
     ]
    }
   ],
   "source": [
    "print(Troi in Quatre.__bases__)\n",
    "print(d.value) \n",
    "print(isinstance(d,Un))\n",
    "print(b.say())"
   ]
  },
  {
   "cell_type": "code",
   "execution_count": 28,
   "metadata": {},
   "outputs": [
    {
     "name": "stdout",
     "output_type": "stream",
     "text": [
      "+-+-+\n",
      "0\n"
     ]
    }
   ],
   "source": [
    "header = 2 * '+-' + '+'\n",
    "print(header)\n",
    "plus = 0\n",
    "for x in header:\n",
    "    if x not in header:\n",
    "        plus += 1\n",
    "print(plus)"
   ]
  },
  {
   "cell_type": "code",
   "execution_count": 29,
   "metadata": {},
   "outputs": [
    {
     "ename": "NameError",
     "evalue": "name 'FirstError' is not defined",
     "output_type": "error",
     "traceback": [
      "\u001b[0;31m---------------------------------------------------------------------------\u001b[0m",
      "\u001b[0;31mNameError\u001b[0m                                 Traceback (most recent call last)",
      "Cell \u001b[0;32mIn[29], line 3\u001b[0m\n\u001b[1;32m      2\u001b[0m \u001b[39mif\u001b[39;00m \u001b[39m'\u001b[39m\u001b[39m1\u001b[39m\u001b[39m'\u001b[39m \u001b[39m!=\u001b[39m \u001b[39m1\u001b[39m:\n\u001b[0;32m----> 3\u001b[0m     \u001b[39mraise\u001b[39;00m FirstError\n\u001b[1;32m      4\u001b[0m \u001b[39melse\u001b[39;00m:\n",
      "\u001b[0;31mNameError\u001b[0m: name 'FirstError' is not defined",
      "\nDuring handling of the above exception, another exception occurred:\n",
      "\u001b[0;31mNameError\u001b[0m                                 Traceback (most recent call last)",
      "Cell \u001b[0;32mIn[29], line 6\u001b[0m\n\u001b[1;32m      4\u001b[0m     \u001b[39melse\u001b[39;00m:\n\u001b[1;32m      5\u001b[0m         \u001b[39mprint\u001b[39m(\u001b[39m'\u001b[39m\u001b[39mFirstError has not occured.\u001b[39m\u001b[39m'\u001b[39m)\n\u001b[0;32m----> 6\u001b[0m \u001b[39mexcept\u001b[39;00m FirstError:\n\u001b[1;32m      7\u001b[0m     \u001b[39mprint\u001b[39m(\u001b[39m'\u001b[39m\u001b[39mFirstError has occured.\u001b[39m\u001b[39m'\u001b[39m)\n\u001b[1;32m      8\u001b[0m \u001b[39melse\u001b[39;00m:\n",
      "\u001b[0;31mNameError\u001b[0m: name 'FirstError' is not defined"
     ]
    }
   ],
   "source": [
    "try:\n",
    "    if '1' != 1:\n",
    "        raise FirstError\n",
    "    else:\n",
    "        print('FirstError has not occured.')\n",
    "except FirstError:\n",
    "    print('FirstError has occured.')\n",
    "else:\n",
    "    print('None of the above.')"
   ]
  },
  {
   "cell_type": "code",
   "execution_count": 30,
   "metadata": {},
   "outputs": [
    {
     "ename": "TypeError",
     "evalue": "unsupported operand type(s) for //: 'int' and 'str'",
     "output_type": "error",
     "traceback": [
      "\u001b[0;31m---------------------------------------------------------------------------\u001b[0m",
      "\u001b[0;31mTypeError\u001b[0m                                 Traceback (most recent call last)",
      "Cell \u001b[0;32mIn[30], line 1\u001b[0m\n\u001b[0;32m----> 1\u001b[0m \u001b[39m10\u001b[39;49m\u001b[39m/\u001b[39;49m\u001b[39m/\u001b[39;49m\u001b[39m'\u001b[39;49m\u001b[39mhello\u001b[39;49m\u001b[39m'\u001b[39;49m\n",
      "\u001b[0;31mTypeError\u001b[0m: unsupported operand type(s) for //: 'int' and 'str'"
     ]
    }
   ],
   "source": [
    "10//'hello'"
   ]
  },
  {
   "cell_type": "code",
   "execution_count": 31,
   "metadata": {},
   "outputs": [
    {
     "name": "stdout",
     "output_type": "stream",
     "text": [
      "2\n"
     ]
    }
   ],
   "source": [
    "data = (1, 2, 4, 8)\n",
    "data = data[1:-1]\n",
    "data = data[0]\n",
    "print(data)"
   ]
  },
  {
   "cell_type": "code",
   "execution_count": 32,
   "metadata": {},
   "outputs": [
    {
     "ename": "AttributeError",
     "evalue": "'C' object has no attribute 'c'",
     "output_type": "error",
     "traceback": [
      "\u001b[0;31m---------------------------------------------------------------------------\u001b[0m",
      "\u001b[0;31mAttributeError\u001b[0m                            Traceback (most recent call last)",
      "Cell \u001b[0;32mIn[32], line 17\u001b[0m\n\u001b[1;32m     13\u001b[0m         \u001b[39mself\u001b[39m\u001b[39m.\u001b[39ma()\n\u001b[1;32m     16\u001b[0m o \u001b[39m=\u001b[39m C()\n\u001b[0;32m---> 17\u001b[0m o\u001b[39m.\u001b[39;49mc()\n",
      "\u001b[0;31mAttributeError\u001b[0m: 'C' object has no attribute 'c'"
     ]
    }
   ],
   "source": [
    "class A:\n",
    "    def a(self):\n",
    "        print('a')\n",
    " \n",
    " \n",
    "class B:\n",
    "    def a(self):\n",
    "        print('b')\n",
    " \n",
    " \n",
    "class C(B, A):\n",
    "    def a(self):\n",
    "        self.a()\n",
    " \n",
    " \n",
    "o = C()\n",
    "o.c()"
   ]
  },
  {
   "cell_type": "code",
   "execution_count": 36,
   "metadata": {},
   "outputs": [
    {
     "name": "stdout",
     "output_type": "stream",
     "text": [
      "True\n",
      "True\n"
     ]
    }
   ],
   "source": [
    "print('' in '')\n",
    "print('' in 'ejlj')"
   ]
  },
  {
   "cell_type": "code",
   "execution_count": 37,
   "metadata": {},
   "outputs": [],
   "source": [
    "\n",
    "class Class:\n",
    "    class_var = 1\n",
    " \n",
    "    def __init__(self):\n",
    "        self.instance_var = 1\n",
    " \n",
    "    def method(self):\n",
    "        pass\n",
    " \n",
    " \n",
    "object = Class()"
   ]
  },
  {
   "cell_type": "code",
   "execution_count": 41,
   "metadata": {},
   "outputs": [
    {
     "name": "stdout",
     "output_type": "stream",
     "text": [
      "{'__module__': '__main__', 'class_var': 1, '__init__': <function Class.__init__ at 0x109a3d0d0>, 'method': <function Class.method at 0x109a3d820>, '__dict__': <attribute '__dict__' of 'Class' objects>, '__weakref__': <attribute '__weakref__' of 'Class' objects>, '__doc__': None}\n",
      "True\n",
      "{'instance_var': 1}\n"
     ]
    }
   ],
   "source": [
    "print(Class.__dict__)\n",
    "print(Class.__dict__['method'] != None)\n",
    "print(object.__dict__)"
   ]
  },
  {
   "cell_type": "code",
   "execution_count": 47,
   "metadata": {},
   "outputs": [
    {
     "ename": "TypeError",
     "evalue": "func2() takes 0 positional arguments but 2 were given",
     "output_type": "error",
     "traceback": [
      "\u001b[0;31m---------------------------------------------------------------------------\u001b[0m",
      "\u001b[0;31mTypeError\u001b[0m                                 Traceback (most recent call last)",
      "Cell \u001b[0;32mIn[47], line 14\u001b[0m\n\u001b[1;32m     10\u001b[0m         \u001b[39mreturn\u001b[39;00m \u001b[39mself\u001b[39m\u001b[39m.\u001b[39mfunc1()\n\u001b[1;32m     13\u001b[0m x \u001b[39m=\u001b[39m A()\n\u001b[0;32m---> 14\u001b[0m \u001b[39mprint\u001b[39m(x\u001b[39m.\u001b[39;49mfunc2(\u001b[39m2\u001b[39;49m))\n",
      "\u001b[0;31mTypeError\u001b[0m: func2() takes 0 positional arguments but 2 were given"
     ]
    }
   ],
   "source": [
    "class A:\n",
    " \n",
    "    def __init__(self):\n",
    "        pass\n",
    " \n",
    "    def func1(self):\n",
    "        return 1\n",
    " \n",
    "    def func2():\n",
    "        return self.func1()\n",
    " \n",
    " \n",
    "x = A()\n",
    "print(x.func2())"
   ]
  },
  {
   "cell_type": "code",
   "execution_count": 48,
   "metadata": {},
   "outputs": [
    {
     "name": "stdout",
     "output_type": "stream",
     "text": [
      "1 1\n"
     ]
    }
   ],
   "source": [
    "x = 0\n",
    "y = 1\n",
    "x = x ^ y\n",
    "y = x ^ y\n",
    "y = x ^ y\n",
    "print(x, y)"
   ]
  },
  {
   "attachments": {},
   "cell_type": "markdown",
   "metadata": {},
   "source": [
    "z = 2\n",
    "y = 1\n",
    "\n",
    "x = 1 < 2 or 2 > 1 and 1 > 2 or 2 < 1\n",
    "x = True or True and False or False\n",
    "x = True or (True and False) or False\n",
    "x = True or False or False\n",
    "x = True"
   ]
  },
  {
   "cell_type": "code",
   "execution_count": 50,
   "metadata": {},
   "outputs": [
    {
     "name": "stdout",
     "output_type": "stream",
     "text": [
      "True\n"
     ]
    }
   ],
   "source": [
    "z = 2\n",
    "y = 1\n",
    "x = y < z or z > y and y > z or z < y\n",
    "print(x)"
   ]
  },
  {
   "cell_type": "code",
   "execution_count": 52,
   "metadata": {},
   "outputs": [
    {
     "name": "stdout",
     "output_type": "stream",
     "text": [
      "[-1, 0, 1]\n"
     ]
    }
   ],
   "source": [
    "data = [i for i in range(-1, 2)]\n",
    "print(data)"
   ]
  },
  {
   "cell_type": "code",
   "execution_count": 54,
   "metadata": {},
   "outputs": [
    {
     "name": "stdout",
     "output_type": "stream",
     "text": [
      "[[], [0], [0, 1]]\n"
     ]
    }
   ],
   "source": [
    "data = [[x for x in range(y)] for y in range(3)]\n",
    "print(data)\n",
    "# [[],[0],[0,1]]"
   ]
  },
  {
   "attachments": {},
   "cell_type": "markdown",
   "metadata": {},
   "source": [
    "x = 16\n",
    "\n",
    "while x > 0:\n",
    "\n",
    "    print('*')\n",
    "\n",
    "    x //= 2\n",
    "\n",
    "start print end\n",
    "16 * 8\n",
    "8 ** 4\n",
    "4 *** 2\n",
    "2 **** 1\n",
    "1 ***** 0"
   ]
  },
  {
   "cell_type": "code",
   "execution_count": 56,
   "metadata": {},
   "outputs": [
    {
     "name": "stdout",
     "output_type": "stream",
     "text": [
      "*\n",
      "8\n",
      "*\n",
      "4\n",
      "*\n",
      "2\n",
      "*\n",
      "1\n",
      "*\n",
      "0\n"
     ]
    }
   ],
   "source": [
    "x = 16\n",
    "\n",
    "while x > 0:\n",
    "\n",
    "    print('*')\n",
    "\n",
    "    x //= 2\n",
    "    print(x)"
   ]
  }
 ],
 "metadata": {
  "kernelspec": {
   "display_name": "Python 3",
   "language": "python",
   "name": "python3"
  },
  "language_info": {
   "codemirror_mode": {
    "name": "ipython",
    "version": 3
   },
   "file_extension": ".py",
   "mimetype": "text/x-python",
   "name": "python",
   "nbconvert_exporter": "python",
   "pygments_lexer": "ipython3",
   "version": "3.9.16"
  },
  "orig_nbformat": 4
 },
 "nbformat": 4,
 "nbformat_minor": 2
}
