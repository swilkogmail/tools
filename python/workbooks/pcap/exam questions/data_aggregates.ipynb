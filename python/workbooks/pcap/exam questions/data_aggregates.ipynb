{
 "cells": [
  {
   "attachments": {},
   "cell_type": "markdown",
   "metadata": {},
   "source": [
    "the key is the fact that the -1 in the list is exclusive"
   ]
  },
  {
   "cell_type": "code",
   "execution_count": 2,
   "metadata": {},
   "outputs": [
    {
     "name": "stdout",
     "output_type": "stream",
     "text": [
      "[0, 1, 2, 3]\n",
      "[1, 2]\n",
      "2\n"
     ]
    }
   ],
   "source": [
    "foo = [x for x in range(4)]\n",
    "print(foo)\n",
    "# [0,1,2,3]\n",
    "spam = [x for x in foo[1:-1]]\n",
    "# [1,2]\n",
    "print(spam)\n",
    "print(spam[1])\n",
    "# 2"
   ]
  }
 ],
 "metadata": {
  "kernelspec": {
   "display_name": "Python 3",
   "language": "python",
   "name": "python3"
  },
  "language_info": {
   "codemirror_mode": {
    "name": "ipython",
    "version": 3
   },
   "file_extension": ".py",
   "mimetype": "text/x-python",
   "name": "python",
   "nbconvert_exporter": "python",
   "pygments_lexer": "ipython3",
   "version": "3.9.6"
  },
  "orig_nbformat": 4
 },
 "nbformat": 4,
 "nbformat_minor": 2
}
