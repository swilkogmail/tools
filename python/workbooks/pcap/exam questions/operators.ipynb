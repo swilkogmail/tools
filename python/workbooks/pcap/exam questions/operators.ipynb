{
 "cells": [
  {
   "attachments": {},
   "cell_type": "markdown",
   "metadata": {},
   "source": [
    "add as many +++ operators before a number and it will return the same"
   ]
  },
  {
   "cell_type": "code",
   "execution_count": 37,
   "metadata": {},
   "outputs": [
    {
     "name": "stdout",
     "output_type": "stream",
     "text": [
      "1\n"
     ]
    }
   ],
   "source": [
    "x = 1\n",
    "print(++++x)"
   ]
  },
  {
   "attachments": {},
   "cell_type": "markdown",
   "metadata": {},
   "source": [
    "minus operators are different (two return a plus) and alternate"
   ]
  },
  {
   "cell_type": "code",
   "execution_count": 38,
   "metadata": {},
   "outputs": [
    {
     "name": "stdout",
     "output_type": "stream",
     "text": [
      "-1\n",
      "1\n",
      "-1\n"
     ]
    }
   ],
   "source": [
    "x = 1\n",
    "print(-x)\n",
    "print(--x)\n",
    "print(---x)"
   ]
  },
  {
   "cell_type": "code",
   "execution_count": 39,
   "metadata": {},
   "outputs": [
    {
     "name": "stdout",
     "output_type": "stream",
     "text": [
      "-1\n",
      "-1\n",
      "-1\n",
      "-1\n"
     ]
    }
   ],
   "source": [
    "x = 1\n",
    "print(-x)\n",
    "print(-x)\n",
    "print(-+x)\n",
    "print(+-++x)"
   ]
  },
  {
   "attachments": {},
   "cell_type": "markdown",
   "metadata": {},
   "source": [
    "Comparing a string with an int will always result in False"
   ]
  },
  {
   "cell_type": "code",
   "execution_count": 40,
   "metadata": {},
   "outputs": [
    {
     "name": "stdout",
     "output_type": "stream",
     "text": [
      "False\n"
     ]
    }
   ],
   "source": [
    "print(10 == 'hello')"
   ]
  },
  {
   "cell_type": "code",
   "execution_count": 41,
   "metadata": {},
   "outputs": [
    {
     "name": "stdout",
     "output_type": "stream",
     "text": [
      "False\n",
      "True\n",
      "True\n"
     ]
    },
    {
     "ename": "TypeError",
     "evalue": "'<=' not supported between instances of 'str' and 'int'",
     "output_type": "error",
     "traceback": [
      "\u001b[0;31m---------------------------------------------------------------------------\u001b[0m",
      "\u001b[0;31mTypeError\u001b[0m                                 Traceback (most recent call last)",
      "Cell \u001b[0;32mIn[41], line 16\u001b[0m\n\u001b[1;32m     12\u001b[0m \u001b[39mprint\u001b[39m(\u001b[39m'\u001b[39m\u001b[39m9\u001b[39m\u001b[39m'\u001b[39m \u001b[39m*\u001b[39m \u001b[39m3\u001b[39m \u001b[39m<\u001b[39m \u001b[39m'\u001b[39m\u001b[39m9\u001b[39m\u001b[39m'\u001b[39m \u001b[39m*\u001b[39m \u001b[39m9\u001b[39m)   \u001b[39m# True\u001b[39;00m\n\u001b[1;32m     13\u001b[0m \u001b[39m# True, because '999' is less than '999999999'.\u001b[39;00m\n\u001b[1;32m     14\u001b[0m \u001b[39m# as the first string is shorter than the second string\u001b[39;00m\n\u001b[0;32m---> 16\u001b[0m \u001b[39mprint\u001b[39m(\u001b[39m'\u001b[39;49m\u001b[39m9\u001b[39;49m\u001b[39m'\u001b[39;49m \u001b[39m*\u001b[39;49m \u001b[39m1\u001b[39;49m \u001b[39m<\u001b[39;49m\u001b[39m=\u001b[39;49m \u001b[39m1\u001b[39;49m \u001b[39m*\u001b[39;49m \u001b[39m2\u001b[39;49m)\n\u001b[1;32m     17\u001b[0m \u001b[39m# TypeError: '<=' not supported between\u001b[39;00m\n\u001b[1;32m     18\u001b[0m \u001b[39m# instances of 'str' and 'int'\u001b[39;00m\n\u001b[1;32m     19\u001b[0m \u001b[39m# You cannot compare string and integer with any other than\u001b[39;00m\n\u001b[1;32m     20\u001b[0m \u001b[39m# the equal to operator (==) or the not equal to operator(!=)\u001b[39;00m\n",
      "\u001b[0;31mTypeError\u001b[0m: '<=' not supported between instances of 'str' and 'int'"
     ]
    }
   ],
   "source": [
    "print(10 == '1' + '0')     # False\n",
    "# You can compare a string and an integer\n",
    "# with the equal to operator (==)\n",
    "# or the not equal to operator(!=).\n",
    "# But it will always returns False.\n",
    " \n",
    "print('Al' * 2 <= 'Alan')  # True\n",
    "# SNUL\n",
    "# Special Numbers Upper Lower\n",
    "# 'AlAl' is less than 'Alan' because 'A' is less than 'a'.\n",
    " \n",
    "print('9' * 3 < '9' * 9)   # True\n",
    "# True, because '999' is less than '999999999'.\n",
    "# as the first string is shorter than the second string\n",
    " \n",
    "print('9' * 1 <= 1 * 2)\n",
    "# TypeError: '<=' not supported between\n",
    "# instances of 'str' and 'int'\n",
    "# You cannot compare string and integer with any other than\n",
    "# the equal to operator (==) or the not equal to operator(!=)"
   ]
  }
 ],
 "metadata": {
  "kernelspec": {
   "display_name": "Python 3",
   "language": "python",
   "name": "python3"
  },
  "language_info": {
   "codemirror_mode": {
    "name": "ipython",
    "version": 3
   },
   "file_extension": ".py",
   "mimetype": "text/x-python",
   "name": "python",
   "nbconvert_exporter": "python",
   "pygments_lexer": "ipython3",
   "version": "3.9.16"
  },
  "orig_nbformat": 4
 },
 "nbformat": 4,
 "nbformat_minor": 2
}
