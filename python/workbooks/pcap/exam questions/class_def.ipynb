{
 "cells": [
  {
   "cell_type": "code",
   "execution_count": 35,
   "metadata": {},
   "outputs": [
    {
     "name": "stdout",
     "output_type": "stream",
     "text": [
      "1\n",
      "2\n",
      "5\n",
      "6\n",
      "9\n",
      "10\n",
      "13\n"
     ]
    }
   ],
   "source": [
    "class A:\n",
    " \n",
    "    def __init__(self, x=1):\n",
    "        self.x = x\n",
    " \n",
    "    def set(self, x):\n",
    "        self.x = x + 3\n",
    "        return x\n",
    " \n",
    " \n",
    "a = A()\n",
    "print(a.x)\n",
    "print(a.set(2)) # this will set self.x to 5 and return 2 from set()\n",
    "print(a.x)\n",
    "print(a.set(a.x + 1)) # this will set self.x to 9 and return 6 from set()\n",
    "print(a.x)\n",
    "print(a.set(a.x + 1)) # this will set self.x to 13 and return 10 from set()\n",
    "print(a.x)"
   ]
  },
  {
   "attachments": {},
   "cell_type": "markdown",
   "metadata": {},
   "source": [
    "The variable a will hold an instance of class A\n",
    "\n",
    "The __init__() method will initialize the object variable a.x with the value 1\n",
    "\n",
    "a.x + 1 -> 1 + 1 -> 2\n",
    "\n",
    "The value 2 will be passed to the set() method of the object a\n",
    "\n",
    "The set() method will write the value 5 (2 + 3 -> 5) to the object variable a.x which has no further consequences. The set() method will return the value 2 and that will be printed.\n",
    "\n"
   ]
  },
  {
   "attachments": {},
   "cell_type": "markdown",
   "metadata": {},
   "source": [
    "The key is the fact that in the exaple x is returned and NOT self.x.  x is just the parameter pass to the function"
   ]
  },
  {
   "cell_type": "code",
   "execution_count": 36,
   "metadata": {},
   "outputs": [
    {
     "name": "stdout",
     "output_type": "stream",
     "text": [
      "1\n",
      "self.x is: 5 - x is: 2\n",
      "self.x is: 9 - x is: 6\n"
     ]
    }
   ],
   "source": [
    "class A:\n",
    " \n",
    "    def __init__(self, x=1):\n",
    "        self.x = x\n",
    " \n",
    "    def set(self, x):\n",
    "        self.x = x + 3\n",
    "        return f\"self.x is: {self.x} - x is: {x}\"\n",
    " \n",
    " \n",
    "a = A()\n",
    "print(a.x)\n",
    "print(a.set(2))\n",
    "print(a.set(a.x + 1))"
   ]
  }
 ],
 "metadata": {
  "kernelspec": {
   "display_name": "Python 3",
   "language": "python",
   "name": "python3"
  },
  "language_info": {
   "codemirror_mode": {
    "name": "ipython",
    "version": 3
   },
   "file_extension": ".py",
   "mimetype": "text/x-python",
   "name": "python",
   "nbconvert_exporter": "python",
   "pygments_lexer": "ipython3",
   "version": "3.9.6"
  },
  "orig_nbformat": 4
 },
 "nbformat": 4,
 "nbformat_minor": 2
}
