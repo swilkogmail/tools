{
 "cells": [
  {
   "attachments": {},
   "cell_type": "markdown",
   "metadata": {},
   "source": [
    "using the same seed will result in the same number being generated. seed does not need to be called if you want to use the default value\n",
    "\n",
    "printing the output from seed will return None"
   ]
  },
  {
   "cell_type": "code",
   "execution_count": 192,
   "metadata": {},
   "outputs": [
    {
     "name": "stdout",
     "output_type": "stream",
     "text": [
      "10\n",
      "None\n",
      "2\n",
      "2\n"
     ]
    }
   ],
   "source": [
    "import random\n",
    "z = random.choice([1, 2, 3, 4,6,7,8,9,10])\n",
    "print(z)\n",
    "\n",
    "print(random.seed())\n",
    "\n",
    "random.seed(0)\n",
    "x = random.choice([1, 2])\n",
    "print(x)\n",
    "random.seed(0)\n",
    "y = random.choice([1, 2])\n",
    "print(y)"
   ]
  },
  {
   "attachments": {},
   "cell_type": "markdown",
   "metadata": {},
   "source": [
    "not if the list are not the same though"
   ]
  },
  {
   "cell_type": "code",
   "execution_count": 193,
   "metadata": {},
   "outputs": [
    {
     "name": "stdout",
     "output_type": "stream",
     "text": [
      "2\n",
      "3\n"
     ]
    }
   ],
   "source": [
    "random.seed(400000)\n",
    "x = random.choice([1, 2, 3, 4])\n",
    "print(x)\n",
    "random.seed(400000)\n",
    "y = random.choice([1, 2, 3, 4,6,7,8,9,10])\n",
    "print(y)"
   ]
  },
  {
   "attachments": {},
   "cell_type": "markdown",
   "metadata": {},
   "source": [
    "by default seed will use the system date.  seed is called explicitly in order set it back to what it was above. if you want to print two number from a list at random set up a range loop."
   ]
  },
  {
   "cell_type": "code",
   "execution_count": 194,
   "metadata": {},
   "outputs": [
    {
     "name": "stdout",
     "output_type": "stream",
     "text": [
      "46"
     ]
    }
   ],
   "source": [
    "random.seed()\n",
    "for i in range(2):\n",
    "    y = random.choice([1, 2, 3, 4,6,7,8,9,10])\n",
    "    print(y, end='')"
   ]
  }
 ],
 "metadata": {
  "kernelspec": {
   "display_name": "Python 3",
   "language": "python",
   "name": "python3"
  },
  "language_info": {
   "codemirror_mode": {
    "name": "ipython",
    "version": 3
   },
   "file_extension": ".py",
   "mimetype": "text/x-python",
   "name": "python",
   "nbconvert_exporter": "python",
   "pygments_lexer": "ipython3",
   "version": "3.9.16"
  },
  "orig_nbformat": 4
 },
 "nbformat": 4,
 "nbformat_minor": 2
}
