{
 "cells": [
  {
   "attachments": {},
   "cell_type": "markdown",
   "metadata": {},
   "source": [
    "Basic format:\n",
    "lambda parameter1, parameter2: #instructions"
   ]
  },
  {
   "cell_type": "code",
   "execution_count": 20,
   "metadata": {},
   "outputs": [],
   "source": [
    "def add_numbers(x,y):\n",
    "    return x + y"
   ]
  },
  {
   "cell_type": "code",
   "execution_count": 21,
   "metadata": {},
   "outputs": [
    {
     "data": {
      "text/plain": [
       "<function __main__.<lambda>(x, y)>"
      ]
     },
     "execution_count": 21,
     "metadata": {},
     "output_type": "execute_result"
    }
   ],
   "source": [
    "lambda x,y: x + y"
   ]
  },
  {
   "attachments": {},
   "cell_type": "markdown",
   "metadata": {},
   "source": [
    "The sum function can be easily called using add_numbers(2,3).  The lambda needs to be saved to a vaiable and then the variable called."
   ]
  },
  {
   "cell_type": "code",
   "execution_count": 22,
   "metadata": {},
   "outputs": [],
   "source": [
    "lamb_sum = lambda x,y: x + y"
   ]
  },
  {
   "cell_type": "code",
   "execution_count": 23,
   "metadata": {},
   "outputs": [
    {
     "data": {
      "text/plain": [
       "5"
      ]
     },
     "execution_count": 23,
     "metadata": {},
     "output_type": "execute_result"
    }
   ],
   "source": [
    "lamb_sum(2,3)"
   ]
  },
  {
   "attachments": {},
   "cell_type": "markdown",
   "metadata": {},
   "source": [
    "One of the useages of lambdas is they can be passed around like variables:"
   ]
  },
  {
   "cell_type": "code",
   "execution_count": 24,
   "metadata": {},
   "outputs": [],
   "source": [
    "def apply_func(elements, func):\n",
    "    for element in elements: # element must be an iterable list\n",
    "        print(func(element))"
   ]
  },
  {
   "cell_type": "code",
   "execution_count": 25,
   "metadata": {},
   "outputs": [
    {
     "name": "stdout",
     "output_type": "stream",
     "text": [
      "1\n",
      "4\n",
      "9\n",
      "16\n",
      "25\n"
     ]
    }
   ],
   "source": [
    "my_func = lambda x: x * x\n",
    "apply_func([1,2,3,4,5],my_func)"
   ]
  },
  {
   "attachments": {},
   "cell_type": "markdown",
   "metadata": {},
   "source": [
    "If you want to change the output of the function apply_func then just assign a new usage to the lambda and call the function the same"
   ]
  },
  {
   "cell_type": "code",
   "execution_count": 26,
   "metadata": {},
   "outputs": [
    {
     "name": "stdout",
     "output_type": "stream",
     "text": [
      "1\n",
      "4\n",
      "27\n",
      "256\n",
      "3125\n"
     ]
    }
   ],
   "source": [
    "my_func = lambda x: x ** x\n",
    "apply_func([1,2,3,4,5],my_func)"
   ]
  },
  {
   "attachments": {},
   "cell_type": "markdown",
   "metadata": {},
   "source": [
    "The lambda does need to be defined in to a variable.  It can we just passed to the function:"
   ]
  },
  {
   "cell_type": "code",
   "execution_count": 27,
   "metadata": {},
   "outputs": [
    {
     "name": "stdout",
     "output_type": "stream",
     "text": [
      "1\n",
      "0\n",
      "0\n",
      "0\n",
      "0\n"
     ]
    }
   ],
   "source": [
    "apply_func([1,2,3,4,5], lambda x: x // x ** x)"
   ]
  },
  {
   "attachments": {},
   "cell_type": "markdown",
   "metadata": {},
   "source": [
    "the function func() will return a lambda:\n",
    "\n",
    "lambda x: 'Paul' + ' ' + x\n",
    "\n",
    "this function is assigned to a variable 'people'.  Then the function is called with 'Peter'\n",
    "\n",
    "lambda x: 'Paul' + ' ' + 'Peter'\n",
    "\n",
    "returning Paul Peter\n"
   ]
  },
  {
   "cell_type": "code",
   "execution_count": 28,
   "metadata": {},
   "outputs": [
    {
     "name": "stdout",
     "output_type": "stream",
     "text": [
      "Paul Peter\n"
     ]
    }
   ],
   "source": [
    "def func():\n",
    "    text = 'Paul'\n",
    "    names = lambda x: text + ' ' + x\n",
    "    return names\n",
    " \n",
    " \n",
    "people = func()\n",
    " \n",
    "print(people('Peter'))"
   ]
  },
  {
   "cell_type": "code",
   "execution_count": 29,
   "metadata": {},
   "outputs": [
    {
     "name": "stdout",
     "output_type": "stream",
     "text": [
      "3\n"
     ]
    }
   ],
   "source": [
    "def f(l):\n",
    "    return l(-3, 3)\n",
    " \n",
    "# this says = take in tow arguments (-3 and 3)\n",
    "# if -3 > 3 return -3 else return 3\n",
    "print(f(lambda x,y: x if x > y else y))"
   ]
  },
  {
   "attachments": {},
   "cell_type": "markdown",
   "metadata": {},
   "source": [
    "reduce will return just one values from a list.  the key tyo below is that the first two values in the list are passed to x and y\n",
    "\n",
    "1. \n",
    "num = reduce(lambda x, y: return 47 if (47 > 11) else return 11, [47, 11, 42, 102, 23])\n",
    "\n",
    "reduce will then replace those two elements in the list by the return value:\n",
    "\n",
    "num = reduce(lambda x, y: return 47 if (47 > 42) else return 42, [47, 42, 102, 23])\n",
    "..\n",
    "num = reduce(lambda x, y: return 47 if (47 > 102) else return 102, [47, 102, 23])\n",
    "..\n",
    "num = reduce(lambda x, y: return 102 if (102 > 23) else return 102, [102, 23])\n",
    "\n",
    "until the onlly number left is 102\n",
    "\n",
    "num = 102\n",
    "\n"
   ]
  },
  {
   "cell_type": "code",
   "execution_count": null,
   "metadata": {},
   "outputs": [],
   "source": [
    "from functools import reduce\n",
    "num = reduce(lambda x, y: x if (x > y) else y, [47, 11, 42, 102, 23])\n",
    "print(num)"
   ]
  }
 ],
 "metadata": {
  "kernelspec": {
   "display_name": "Python 3",
   "language": "python",
   "name": "python3"
  },
  "language_info": {
   "codemirror_mode": {
    "name": "ipython",
    "version": 3
   },
   "file_extension": ".py",
   "mimetype": "text/x-python",
   "name": "python",
   "nbconvert_exporter": "python",
   "pygments_lexer": "ipython3",
   "version": "3.9.16"
  },
  "orig_nbformat": 4
 },
 "nbformat": 4,
 "nbformat_minor": 2
}
