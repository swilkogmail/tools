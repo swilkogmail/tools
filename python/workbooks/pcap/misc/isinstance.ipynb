{
 "cells": [
  {
   "attachments": {},
   "cell_type": "markdown",
   "metadata": {},
   "source": [
    "if type(data[i]) == list can be used to check whether the object (data[i] in this case is a list). note that list is an object not a string, i.e. 'list'"
   ]
  },
  {
   "cell_type": "code",
   "execution_count": 23,
   "metadata": {},
   "outputs": [
    {
     "name": "stdout",
     "output_type": "stream",
     "text": [
      "<class 'int'>\n",
      "<class 'int'>\n",
      "<class 'list'>\n",
      "<class 'list'>\n",
      "<class 'int'>\n",
      "<class 'list'>\n",
      "<class 'int'>\n",
      "3\n"
     ]
    }
   ],
   "source": [
    "data = [1, 2, [3, 4], [5, 6], 7, [8, 9], 10]\n",
    "count = 0\n",
    " \n",
    "for i in range(len(data)):\n",
    "    print(type(data[i]))\n",
    "    if type(data[i]) == list:\n",
    "        count += 1\n",
    " \n",
    "print(count)"
   ]
  },
  {
   "attachments": {},
   "cell_type": "markdown",
   "metadata": {},
   "source": [
    "if you use a string, i.e. list it results in false"
   ]
  },
  {
   "cell_type": "code",
   "execution_count": 24,
   "metadata": {},
   "outputs": [
    {
     "name": "stdout",
     "output_type": "stream",
     "text": [
      "<class 'int'>\n",
      "<class 'int'>\n",
      "<class 'list'>\n",
      "<class 'list'>\n",
      "<class 'int'>\n",
      "<class 'list'>\n",
      "<class 'int'>\n",
      "0\n"
     ]
    }
   ],
   "source": [
    "data = [1, 2, [3, 4], [5, 6], 7, [8, 9], 10]\n",
    "count = 0\n",
    " \n",
    "for i in range(len(data)):\n",
    "    print(type(data[i]))\n",
    "    if type(data[i]) == 'list':\n",
    "        count += 1\n",
    " \n",
    "print(count)"
   ]
  },
  {
   "attachments": {},
   "cell_type": "markdown",
   "metadata": {},
   "source": [
    "if type(data[i]) == list can be used to check whether the object (data[i] in this case is an int)"
   ]
  },
  {
   "cell_type": "code",
   "execution_count": 25,
   "metadata": {},
   "outputs": [
    {
     "name": "stdout",
     "output_type": "stream",
     "text": [
      "<class 'int'>\n",
      "<class 'int'>\n",
      "<class 'list'>\n",
      "<class 'list'>\n",
      "<class 'int'>\n",
      "<class 'list'>\n",
      "<class 'int'>\n",
      "4\n"
     ]
    }
   ],
   "source": [
    "data = [1, 2, [3, 4], [5, 6], 7, [8, 9], 10]\n",
    "count = 0\n",
    " \n",
    "for i in range(len(data)):\n",
    "    print(type(data[i]))\n",
    "    if type(data[i]) == int:\n",
    "        count += 1\n",
    " \n",
    "print(count)"
   ]
  },
  {
   "attachments": {},
   "cell_type": "markdown",
   "metadata": {},
   "source": [
    "you can use isinstance as well"
   ]
  },
  {
   "cell_type": "code",
   "execution_count": 26,
   "metadata": {},
   "outputs": [
    {
     "name": "stdout",
     "output_type": "stream",
     "text": [
      "3\n"
     ]
    }
   ],
   "source": [
    "data = [1, 2, [3, 4], [5, 6], 7, [8, 9], 10]\n",
    "count = 0\n",
    " \n",
    "for i in range(len(data)):\n",
    "    if isinstance(data[i], list):\n",
    "        count += 1\n",
    " \n",
    "print(count)"
   ]
  },
  {
   "cell_type": "code",
   "execution_count": 27,
   "metadata": {},
   "outputs": [
    {
     "name": "stdout",
     "output_type": "stream",
     "text": [
      "4\n"
     ]
    }
   ],
   "source": [
    "data = [1, 2, [3, 4], [5, 6], 7, [8, 9], 10]\n",
    "count = 0\n",
    " \n",
    "for i in range(len(data)):\n",
    "    if isinstance(data[i], int):\n",
    "        count += 1\n",
    " \n",
    "print(count)"
   ]
  }
 ],
 "metadata": {
  "kernelspec": {
   "display_name": "Python 3",
   "language": "python",
   "name": "python3"
  },
  "language_info": {
   "codemirror_mode": {
    "name": "ipython",
    "version": 3
   },
   "file_extension": ".py",
   "mimetype": "text/x-python",
   "name": "python",
   "nbconvert_exporter": "python",
   "pygments_lexer": "ipython3",
   "version": "3.9.16"
  },
  "orig_nbformat": 4
 },
 "nbformat": 4,
 "nbformat_minor": 2
}
