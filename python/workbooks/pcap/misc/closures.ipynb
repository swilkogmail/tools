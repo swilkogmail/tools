{
 "cells": [
  {
   "attachments": {},
   "cell_type": "markdown",
   "metadata": {},
   "source": [
    "A closure is a function defined inside another function that remembers the values from the other funtion:  In the function below print_greet() has access to the variable from the outer function.  When it is called it will populate its value 'text' with the call to the outer functon.  It's callled a closure once we access the variable from the outer function.  If no variables are accessed then it's simply a nested function."
   ]
  },
  {
   "cell_type": "code",
   "execution_count": 5,
   "metadata": {},
   "outputs": [],
   "source": [
    "def greet(text):\n",
    "\n",
    "    def print_greet():\n",
    "        print(text)\n",
    "\n",
    "    return print_greet\n"
   ]
  },
  {
   "cell_type": "code",
   "execution_count": 6,
   "metadata": {},
   "outputs": [
    {
     "name": "stdout",
     "output_type": "stream",
     "text": [
      "Hello\n",
      "Bye\n"
     ]
    }
   ],
   "source": [
    "say_hello = greet('Hello')\n",
    "# adding the () to the variable say_hello states\n",
    "# that the variable should be exceuted.\n",
    "# as the variable contains a clusure it is run as a function would be\n",
    "say_hello()\n",
    "# The important thing is that lthe closure remembers the text value\n",
    "# we can call the same closure with another values and we get something\n",
    "# different\n",
    "say_goodbye = greet('Bye')\n",
    "say_goodbye()"
   ]
  },
  {
   "attachments": {},
   "cell_type": "markdown",
   "metadata": {},
   "source": [
    "Variable that are still stored in the outer function through different invocations of the function are called 'free varaibles'."
   ]
  },
  {
   "cell_type": "code",
   "execution_count": 7,
   "metadata": {},
   "outputs": [],
   "source": [
    "def make_multiple_closure(x):\n",
    "\n",
    "    def multiply(y):\n",
    "        return x * y\n",
    "    \n",
    "    return multiply"
   ]
  },
  {
   "cell_type": "code",
   "execution_count": 8,
   "metadata": {},
   "outputs": [
    {
     "name": "stdout",
     "output_type": "stream",
     "text": [
      "50\n",
      "100\n",
      "120\n",
      "240\n"
     ]
    }
   ],
   "source": [
    "multiply_5 = make_multiple_closure(5)\n",
    "multiply_12 = make_multiple_closure(12)\n",
    "\n",
    "print(multiply_5(10))\n",
    "print(multiply_5(20))\n",
    "\n",
    "print(multiply_12(10))\n",
    "print(multiply_12(20))"
   ]
  },
  {
   "cell_type": "code",
   "execution_count": null,
   "metadata": {},
   "outputs": [],
   "source": [
    "\n",
    "def run_release(in_release_section, in_conf_d, in_obj_type, in_db_conn):\n",
    "    if in_release_section == 'baseline':\n",
    "        dir_path = g_baseline_dir\n",
    "    else:\n",
    "        dir_path = g_release_dir\n",
    "    \n",
    "    if in_obj_type == 'views':\n",
    "        obj_dir = f\"{dir_path}/views\"\n",
    "    elif in_obj_type == 'funcs':\n",
    "        obj_dir = f\"{dir_path}/funcs\" \n",
    "    \n",
    "    def run_section():\n",
    "        try:\n",
    "            objs = in_conf_d[in_release_section][in_obj_type]\n",
    "            for obj in objs:\n",
    "                sqlfile=f\"{obj_dir}/{obj}.sql\"\n",
    "                print(f\"executing {sqlfile}...\")\n",
    "                check_path(sqlfile)\n",
    "                run_script(in_db_conn, sqlfile)\n",
    "        except KeyError as e:\n",
    "            msg=f\"Info:- {e} are not being run as part of this release.\"\n",
    "            pt_and_log(msg, g_logger, \"INFO\")\n",
    "        except TypeError as e:\n",
    "            msg=f\"Warning:- {in_obj_type}, no script found to execute.\"\n",
    "            pt_and_log(msg, g_logger, \"WARNING\")\n",
    "        \n",
    "        return run_section\n",
    "    \n",
    "baseline_funcs = run_release('baseline', in_conf_d, 'funcs', in_db_conn)\n",
    "baseline_funcs()"
   ]
  }
 ],
 "metadata": {
  "kernelspec": {
   "display_name": "Python 3",
   "language": "python",
   "name": "python3"
  },
  "language_info": {
   "codemirror_mode": {
    "name": "ipython",
    "version": 3
   },
   "file_extension": ".py",
   "mimetype": "text/x-python",
   "name": "python",
   "nbconvert_exporter": "python",
   "pygments_lexer": "ipython3",
   "version": "3.9.16"
  },
  "orig_nbformat": 4
 },
 "nbformat": 4,
 "nbformat_minor": 2
}
