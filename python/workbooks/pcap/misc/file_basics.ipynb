{
 "cells": [
  {
   "attachments": {},
   "cell_type": "markdown",
   "metadata": {},
   "source": [
    "Note that if you're just reading the the mode does not need to be entered"
   ]
  },
  {
   "cell_type": "code",
   "execution_count": 281,
   "metadata": {},
   "outputs": [],
   "source": [
    "try:\n",
    "    stream = open('test.txt')\n",
    "    stream.close()\n",
    "except Exception as e:\n",
    "    print(\"An error occured: \", e)"
   ]
  },
  {
   "attachments": {},
   "cell_type": "markdown",
   "metadata": {},
   "source": [
    "read will read it all - although not printed to the screen"
   ]
  },
  {
   "cell_type": "code",
   "execution_count": 282,
   "metadata": {},
   "outputs": [],
   "source": [
    "try:\n",
    "    stream = open('test.txt')\n",
    "    stream.read()\n",
    "    stream.close()\n",
    "except Exception as e:\n",
    "    print(\"An error occured: \", e)"
   ]
  },
  {
   "attachments": {},
   "cell_type": "markdown",
   "metadata": {},
   "source": [
    "wrapped in print()"
   ]
  },
  {
   "cell_type": "code",
   "execution_count": 283,
   "metadata": {},
   "outputs": [
    {
     "name": "stdout",
     "output_type": "stream",
     "text": [
      "this is line 1\n",
      "this is line 2\n",
      "here's line 3\n",
      "etc\n",
      "and some more\n"
     ]
    }
   ],
   "source": [
    "try:\n",
    "    stream = open('test.txt')\n",
    "    print(stream.read())\n",
    "    stream.close()\n",
    "except Exception as e:\n",
    "    print(\"An error occured: \", e)"
   ]
  },
  {
   "attachments": {},
   "cell_type": "markdown",
   "metadata": {},
   "source": [
    "readline will return the firstline as a string"
   ]
  },
  {
   "cell_type": "code",
   "execution_count": 284,
   "metadata": {},
   "outputs": [
    {
     "name": "stdout",
     "output_type": "stream",
     "text": [
      "this is line 1\n",
      "\n"
     ]
    }
   ],
   "source": [
    "try:\n",
    "    stream = open('test.txt')\n",
    "    print(stream.readline())\n",
    "    stream.close()\n",
    "except Exception as e:\n",
    "    print(\"An error occured: \", e)"
   ]
  },
  {
   "attachments": {},
   "cell_type": "markdown",
   "metadata": {},
   "source": [
    "readlines will return the contents as a list of strings (note the newline character)"
   ]
  },
  {
   "cell_type": "code",
   "execution_count": 285,
   "metadata": {},
   "outputs": [
    {
     "name": "stdout",
     "output_type": "stream",
     "text": [
      "['this is line 1\\n', 'this is line 2\\n', \"here's line 3\\n\", 'etc\\n', 'and some more']\n"
     ]
    }
   ],
   "source": [
    "try:\n",
    "    stream = open('test.txt')\n",
    "    print(stream.readlines())\n",
    "    stream.close()\n",
    "except Exception as e:\n",
    "    print(\"An error occured: \", e)"
   ]
  },
  {
   "attachments": {},
   "cell_type": "markdown",
   "metadata": {},
   "source": [
    "\treadlines(arg) is optional. If the number of bytes returned exceed the hint number, no more lines will be returned. Default value is  -1, which means all lines will be returned.  Below the number of lines returned exceeds 20bytes so after that number no more lines will be returned"
   ]
  },
  {
   "cell_type": "code",
   "execution_count": 286,
   "metadata": {},
   "outputs": [
    {
     "name": "stdout",
     "output_type": "stream",
     "text": [
      "['this is line 1\\n', 'this is line 2\\n']\n"
     ]
    }
   ],
   "source": [
    "try:\n",
    "    stream = open('test.txt')\n",
    "    print(stream.readlines(20))\n",
    "    stream.close()\n",
    "except Exception as e:\n",
    "    print(\"An error occured: \", e)"
   ]
  },
  {
   "attachments": {},
   "cell_type": "markdown",
   "metadata": {},
   "source": [
    "read () will read the number of bytes from the file.  You can see that adding 20 will get you the first 20 bytes.  If added to readlines it will result in returning the lines that the 20 bytes limit is reached in."
   ]
  },
  {
   "cell_type": "code",
   "execution_count": 287,
   "metadata": {},
   "outputs": [
    {
     "name": "stdout",
     "output_type": "stream",
     "text": [
      "this is line 1\n",
      "this \n"
     ]
    }
   ],
   "source": [
    "try:\n",
    "    stream = open('test.txt')\n",
    "    print(stream.read(20))\n",
    "    stream.close()\n",
    "except Exception as e:\n",
    "    print(\"An error occured: \", e)"
   ]
  },
  {
   "attachments": {},
   "cell_type": "markdown",
   "metadata": {},
   "source": [
    "Invoking read() twice will continue the read from the place where it ended"
   ]
  },
  {
   "cell_type": "code",
   "execution_count": 288,
   "metadata": {},
   "outputs": [
    {
     "name": "stdout",
     "output_type": "stream",
     "text": [
      "this is line 1\n",
      "this \n",
      "is line 2\n",
      "\n"
     ]
    }
   ],
   "source": [
    "try:\n",
    "    stream = open('test.txt')\n",
    "    print(stream.read(20))\n",
    "    print(stream.read(10))\n",
    "    stream.close()\n",
    "except Exception as e:\n",
    "    print(\"An error occured: \", e)"
   ]
  },
  {
   "attachments": {},
   "cell_type": "markdown",
   "metadata": {},
   "source": [
    "seek will place the head of read to the bytes position. Note - if you ask python to read more bytes than is in the file no exceptions are thrown"
   ]
  },
  {
   "cell_type": "code",
   "execution_count": 289,
   "metadata": {},
   "outputs": [
    {
     "name": "stdout",
     "output_type": "stream",
     "text": [
      "this is line 1\n",
      "this \n",
      "this is line 1\n",
      "this is line 2\n",
      "here's line 3\n",
      "etc\n",
      "and some more\n"
     ]
    }
   ],
   "source": [
    "try:\n",
    "    stream = open('test.txt')\n",
    "    print(stream.read(20))\n",
    "    stream.seek(0)\n",
    "    print(stream.read(2000))\n",
    "    stream.close()\n",
    "except Exception as e:\n",
    "    print(\"An error occured: \", e)"
   ]
  },
  {
   "attachments": {},
   "cell_type": "markdown",
   "metadata": {},
   "source": [
    "read a file character by character"
   ]
  },
  {
   "cell_type": "code",
   "execution_count": 290,
   "metadata": {},
   "outputs": [
    {
     "name": "stdout",
     "output_type": "stream",
     "text": [
      "t-h-i-s- -i-s- -l-i-n-e- -1-\n",
      "-t-h-i-s- -i-s- -l-i-n-e- -2-\n",
      "-h-e-r-e-'-s- -l-i-n-e- -3-\n",
      "-e-t-c-\n",
      "-a-n-d- -s-o-m-e- -m-o-r-e-"
     ]
    }
   ],
   "source": [
    "try:\n",
    "    stream = open('test.txt')\n",
    "    character = stream.read(1)\n",
    "    while character != '': # an empty string means the end of the file\n",
    "        print(character, end='-') # print it and add a dash\n",
    "        character = stream.read(1) # read another character from the file (the pointer (seek) has moved on one)\n",
    "    stream.close()\n",
    "except Exception as e:\n",
    "    print(\"An error occured: \", e)"
   ]
  },
  {
   "attachments": {},
   "cell_type": "markdown",
   "metadata": {},
   "source": [
    "count the characters in a file"
   ]
  },
  {
   "attachments": {},
   "cell_type": "markdown",
   "metadata": {},
   "source": [
    "Reading a file character by character will protect against corriuption the os as the read will only do 1 by 1 read (not the whole file as in the case of read()).  This can be useful to check for occurances of certain strings in the file."
   ]
  },
  {
   "cell_type": "code",
   "execution_count": 291,
   "metadata": {},
   "outputs": [
    {
     "name": "stdout",
     "output_type": "stream",
     "text": [
      "t-h-i-s- -i-s- -l-i-n-e- -1-\n",
      "-t-h-i-s- -i-s- -l-i-n-e- -2-\n",
      "-h-e-r-e-'-s- -l-i-n-e- -3-\n",
      "-e-t-c-\n",
      "-a-n-d- -s-o-m-e- -m-o-r-e-\n",
      "Number of characters : 61\n"
     ]
    }
   ],
   "source": [
    "try:\n",
    "    stream = open('test.txt')\n",
    "    counter = 0\n",
    "    character = stream.read(1)\n",
    "    while character != '': # an empty string means the end of the file\n",
    "        counter += 1\n",
    "        print(character, end='-') # print it and add a dash\n",
    "        character = stream.read(1) # read another character from the file (the pointer (seek) has moved on one)\n",
    "    stream.close()\n",
    "    print(f\"\\nNumber of characters : {counter}\")\n",
    "except Exception as e:\n",
    "    print(\"An error occured: \", e)"
   ]
  },
  {
   "attachments": {},
   "cell_type": "markdown",
   "metadata": {},
   "source": [
    "We can also read the file line by line:"
   ]
  },
  {
   "cell_type": "code",
   "execution_count": 292,
   "metadata": {},
   "outputs": [
    {
     "name": "stdout",
     "output_type": "stream",
     "text": [
      "this is line 1\n",
      "this is line 2\n",
      "here's line 3\n",
      "etc\n",
      "and some more\n",
      "Number of lines : 5\n"
     ]
    }
   ],
   "source": [
    "try:\n",
    "    stream = open('test.txt')\n",
    "    counter = 0\n",
    "    line = stream.readline()\n",
    "    while line != '': # an empty string means the end of the file\n",
    "        counter += 1\n",
    "        print(line, end='') # print it and add a dash (if you don't add end='' then the newline charater will be printed)\n",
    "        line = stream.readline() # read another line from the file (the pointer (seek) has moved on one)\n",
    "    stream.close()\n",
    "    print(f\"\\nNumber of lines : {counter}\")\n",
    "except Exception as e:\n",
    "    print(\"An error occured: \", e)"
   ]
  },
  {
   "attachments": {},
   "cell_type": "markdown",
   "metadata": {},
   "source": [
    "similar can be archieved with readlines although if it's a large file then memory problems may occur"
   ]
  },
  {
   "cell_type": "code",
   "execution_count": 293,
   "metadata": {},
   "outputs": [
    {
     "name": "stdout",
     "output_type": "stream",
     "text": [
      "Contents of file: ['this is line 1\\n', 'this is line 2\\n', \"here's line 3\\n\", 'etc\\n', 'and some more']\n",
      "Number of lines in file: 5\n",
      "this is line 1\n",
      "this is line 2\n",
      "here's line 3\n",
      "etc\n",
      "and some more"
     ]
    }
   ],
   "source": [
    "try:\n",
    "    stream = open('test.txt')\n",
    "    lines = stream.readlines()\n",
    "    print(f\"Contents of file: {lines}\")\n",
    "    print(f\"Number of lines in file: {len(lines)}\")\n",
    "    for line in lines:\n",
    "        print(line,end='')\n",
    "    stream.close()\n",
    "except Exception as e:\n",
    "    print(\"An error occured: \", e)"
   ]
  },
  {
   "attachments": {},
   "cell_type": "markdown",
   "metadata": {},
   "source": [
    "Using readline can result in a performance increase as we are reading more lines in at once.  Below will suggest a reading buffer of 2 bytes, if the len(lines) = 0 then thats the end of the file.  If there are still some elements in the list then the list is printed 1 by one and another read is made with the suggested read buffer.  So this method will read in chucks of lines and print them."
   ]
  },
  {
   "cell_type": "code",
   "execution_count": 294,
   "metadata": {},
   "outputs": [
    {
     "name": "stdout",
     "output_type": "stream",
     "text": [
      "this is line 1\n",
      "this is line 2\n",
      "here's line 3\n",
      "etc\n",
      "and some more"
     ]
    }
   ],
   "source": [
    "try:\n",
    "    stream = open('test.txt')\n",
    "    lines = stream.readlines(2)\n",
    "    while len(lines) != 0:\n",
    "        for line in lines:\n",
    "            print(line,end='')\n",
    "        lines = stream.readline(2)\n",
    "    stream.close()\n",
    "except Exception as e:\n",
    "    print(\"An error occured: \", e)"
   ]
  },
  {
   "attachments": {},
   "cell_type": "markdown",
   "metadata": {},
   "source": [
    "You can just use the following code to read the file and close it as steams are iterable"
   ]
  },
  {
   "cell_type": "code",
   "execution_count": 295,
   "metadata": {},
   "outputs": [
    {
     "name": "stdout",
     "output_type": "stream",
     "text": [
      "this is line 1\n",
      "this is line 2\n",
      "here's line 3\n",
      "etc\n",
      "and some more"
     ]
    }
   ],
   "source": [
    "try:\n",
    "    stream = open('test.txt')\n",
    "    for line in stream:\n",
    "        print(line, end='')\n",
    "except Exception as e:\n",
    "    print(\"An error occured: \", e)"
   ]
  }
 ],
 "metadata": {
  "kernelspec": {
   "display_name": "Python 3",
   "language": "python",
   "name": "python3"
  },
  "language_info": {
   "codemirror_mode": {
    "name": "ipython",
    "version": 3
   },
   "file_extension": ".py",
   "mimetype": "text/x-python",
   "name": "python",
   "nbconvert_exporter": "python",
   "pygments_lexer": "ipython3",
   "version": "3.9.16"
  },
  "orig_nbformat": 4
 },
 "nbformat": 4,
 "nbformat_minor": 2
}
