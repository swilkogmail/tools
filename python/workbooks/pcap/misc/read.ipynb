{
 "cells": [
  {
   "attachments": {},
   "cell_type": "markdown",
   "metadata": {},
   "source": [
    "when executed after the stream is opened read returns 1 character"
   ]
  },
  {
   "cell_type": "code",
   "execution_count": 11,
   "metadata": {},
   "outputs": [
    {
     "name": "stdout",
     "output_type": "stream",
     "text": [
      "t\n"
     ]
    }
   ],
   "source": [
    "try:\n",
    "    stream = open('test.txt')\n",
    "    print(stream.read(1))\n",
    "    stream.close()\n",
    "except Exception as e:\n",
    "    print(\"An error occured: \", e)"
   ]
  },
  {
   "cell_type": "code",
   "execution_count": 12,
   "metadata": {},
   "outputs": [
    {
     "name": "stdout",
     "output_type": "stream",
     "text": [
      "this is line 1\n",
      "\n",
      "this is line 2\n",
      "\n",
      "here's line 3\n",
      "\n",
      "etc\n",
      "\n",
      "and some more\n"
     ]
    }
   ],
   "source": [
    "try:\n",
    "    stream = open('test.txt')\n",
    "    for line in stream:\n",
    "        print(line)\n",
    "    stream.close()\n",
    "except Exception as e:\n",
    "    print(\"An error occured: \", e)"
   ]
  }
 ],
 "metadata": {
  "kernelspec": {
   "display_name": "Python 3",
   "language": "python",
   "name": "python3"
  },
  "language_info": {
   "codemirror_mode": {
    "name": "ipython",
    "version": 3
   },
   "file_extension": ".py",
   "mimetype": "text/x-python",
   "name": "python",
   "nbconvert_exporter": "python",
   "pygments_lexer": "ipython3",
   "version": "3.9.6"
  },
  "orig_nbformat": 4
 },
 "nbformat": 4,
 "nbformat_minor": 2
}
