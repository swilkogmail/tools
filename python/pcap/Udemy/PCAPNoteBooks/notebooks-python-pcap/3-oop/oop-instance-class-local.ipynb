{
 "cells": [
  {
   "cell_type": "code",
   "execution_count": 20,
   "id": "4fb2b233",
   "metadata": {},
   "outputs": [
    {
     "name": "stdout",
     "output_type": "stream",
     "text": [
      "low medium high\n",
      "The house at 12 Lexington St, Soho has an area of 130 and costs 540000\n",
      "1\n"
     ]
    }
   ],
   "source": [
    "class House():\n",
    "    counter = 0\n",
    "    __secret = 'boo'\n",
    "    def __init__(self, address, area, price):\n",
    "        self.address = address\n",
    "        self.area = area\n",
    "        self.price = price\n",
    "        House.counter += 1\n",
    "        \n",
    "        House.quality = 'low'\n",
    "        self.quality = 'medium'\n",
    "        quality = 'high'\n",
    "        House.size = 'massive'\n",
    "        \n",
    "        print(House.quality, self.quality, quality)\n",
    "    \n",
    "    def present(self):\n",
    "        print('The house at', self.address, 'has an area of', self.area, 'and costs', self.price)\n",
    "\n",
    "soho_house = House('12 Lexington St, Soho', 130, 540000)\n",
    "soho_house.present()\n",
    "print(House.counter)\n"
   ]
  },
  {
   "cell_type": "code",
   "execution_count": 21,
   "id": "eaf68c7e",
   "metadata": {},
   "outputs": [
    {
     "name": "stdout",
     "output_type": "stream",
     "text": [
      "medium\n",
      "low\n"
     ]
    }
   ],
   "source": [
    "print(soho_house.quality)\n",
    "print(House.quality)"
   ]
  },
  {
   "cell_type": "code",
   "execution_count": 22,
   "id": "d41e2090",
   "metadata": {},
   "outputs": [
    {
     "name": "stdout",
     "output_type": "stream",
     "text": [
      "{'address': '12 Lexington St, Soho', 'area': 130, 'price': 540000, 'quality': 'medium'}\n"
     ]
    }
   ],
   "source": [
    "print(soho_house.__dict__)"
   ]
  },
  {
   "cell_type": "code",
   "execution_count": 23,
   "id": "75a5fee4",
   "metadata": {},
   "outputs": [
    {
     "name": "stdout",
     "output_type": "stream",
     "text": [
      "{'__module__': '__main__', 'counter': 1, '_House__secret': 'boo', '__init__': <function House.__init__ at 0x1044b1670>, 'present': <function House.present at 0x1044b1a60>, '__dict__': <attribute '__dict__' of 'House' objects>, '__weakref__': <attribute '__weakref__' of 'House' objects>, '__doc__': None, 'quality': 'low', 'size': 'massive'}\n"
     ]
    }
   ],
   "source": [
    "print(House.__dict__)"
   ]
  },
  {
   "attachments": {},
   "cell_type": "markdown",
   "id": "baf803a9",
   "metadata": {},
   "source": [
    "hasattr when called against an object will return True for all the method and instance vaiables"
   ]
  },
  {
   "cell_type": "code",
   "execution_count": 25,
   "id": "ea1309bb",
   "metadata": {},
   "outputs": [
    {
     "name": "stdout",
     "output_type": "stream",
     "text": [
      "True\n",
      "True\n",
      "True\n",
      "False\n",
      "True\n",
      "True\n"
     ]
    }
   ],
   "source": [
    "print(hasattr(soho_house, 'present'))\n",
    "print(hasattr(soho_house, 'counter'))\n",
    "print(hasattr(soho_house, 'quality'))\n",
    "print(hasattr(soho_house, '__secret'))\n",
    "print(hasattr(soho_house, '_House__secret'))\n",
    "print(hasattr(soho_house, 'size'))"
   ]
  },
  {
   "attachments": {},
   "cell_type": "markdown",
   "id": "b1849b41",
   "metadata": {},
   "source": [
    "hasattr when called against a class will return True for all the method and instance vaiables"
   ]
  },
  {
   "cell_type": "code",
   "execution_count": 27,
   "id": "1119b5a4",
   "metadata": {},
   "outputs": [
    {
     "name": "stdout",
     "output_type": "stream",
     "text": [
      "True\n",
      "True\n",
      "True\n",
      "False\n",
      "True\n",
      "True\n",
      "False\n"
     ]
    }
   ],
   "source": [
    "print(hasattr(House, 'present'))\n",
    "print(hasattr(House, 'counter'))\n",
    "print(hasattr(House, 'quality'))\n",
    "print(hasattr(House, '__secret'))\n",
    "print(hasattr(House, '_House__secret'))\n",
    "print(hasattr(House, 'size'))\n",
    "print(hasattr(House, 'price'))"
   ]
  }
 ],
 "metadata": {
  "kernelspec": {
   "display_name": "Python 3 (ipykernel)",
   "language": "python",
   "name": "python3"
  },
  "language_info": {
   "codemirror_mode": {
    "name": "ipython",
    "version": 3
   },
   "file_extension": ".py",
   "mimetype": "text/x-python",
   "name": "python",
   "nbconvert_exporter": "python",
   "pygments_lexer": "ipython3",
   "version": "3.9.16"
  }
 },
 "nbformat": 4,
 "nbformat_minor": 5
}
