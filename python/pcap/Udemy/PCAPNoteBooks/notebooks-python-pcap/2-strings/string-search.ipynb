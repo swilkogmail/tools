{
 "cells": [
  {
   "cell_type": "code",
   "execution_count": 27,
   "id": "cd25c835",
   "metadata": {},
   "outputs": [
    {
     "ename": "ValueError",
     "evalue": "substring not found",
     "output_type": "error",
     "traceback": [
      "\u001b[0;31m---------------------------------------------------------------------------\u001b[0m",
      "\u001b[0;31mValueError\u001b[0m                                Traceback (most recent call last)",
      "Cell \u001b[0;32mIn[27], line 1\u001b[0m\n\u001b[0;32m----> 1\u001b[0m \u001b[39m'\u001b[39;49m\u001b[39milovetravellingaroundtheworld\u001b[39;49m\u001b[39m'\u001b[39;49m\u001b[39m.\u001b[39;49mindex(\u001b[39m'\u001b[39;49m\u001b[39ma\u001b[39;49m\u001b[39m'\u001b[39;49m,\u001b[39m17\u001b[39;49m)\n",
      "\u001b[0;31mValueError\u001b[0m: substring not found"
     ]
    }
   ],
   "source": [
    "'ilovetravellingaroundtheworld'.index('a')"
   ]
  },
  {
   "attachments": {},
   "cell_type": "markdown",
   "id": "ba3e830d",
   "metadata": {},
   "source": [
    "find only works with strings. index will work with list but will return an error is the strings is not found.  find will return -1"
   ]
  },
  {
   "cell_type": "code",
   "execution_count": 14,
   "id": "1e5c66d2",
   "metadata": {},
   "outputs": [
    {
     "name": "stdout",
     "output_type": "stream",
     "text": [
      "2\n",
      "2\n"
     ]
    }
   ],
   "source": [
    "my_text = 'This is my sample string'\n",
    "print(my_text.index('is'))\n",
    "print(my_text.find('is'))"
   ]
  },
  {
   "cell_type": "code",
   "execution_count": 15,
   "id": "8f5cdd81",
   "metadata": {},
   "outputs": [
    {
     "name": "stdout",
     "output_type": "stream",
     "text": [
      "-1\n"
     ]
    }
   ],
   "source": [
    "my_text = 'This is my sample string'\n",
    "# print(my_text.index('are'))\n",
    "print(my_text.find('are'))"
   ]
  },
  {
   "attachments": {},
   "cell_type": "markdown",
   "id": "9568f50e",
   "metadata": {},
   "source": [
    "find with one argument will search from 10 until the end of the line. index will also take the same, start and end"
   ]
  },
  {
   "cell_type": "code",
   "execution_count": 16,
   "id": "8da0f89b",
   "metadata": {},
   "outputs": [
    {
     "data": {
      "text/plain": [
       "-1"
      ]
     },
     "execution_count": 16,
     "metadata": {},
     "output_type": "execute_result"
    }
   ],
   "source": [
    "my_text = 'This is my sample string'\n",
    "my_text.find('is', 10)"
   ]
  },
  {
   "cell_type": "code",
   "execution_count": 17,
   "id": "e874fc11",
   "metadata": {},
   "outputs": [
    {
     "data": {
      "text/plain": [
       "-1"
      ]
     },
     "execution_count": 17,
     "metadata": {},
     "output_type": "execute_result"
    }
   ],
   "source": [
    "my_text = 'This is my sample string'\n",
    "my_text.find('is', 10, 15)"
   ]
  },
  {
   "cell_type": "code",
   "execution_count": 38,
   "id": "6774d967",
   "metadata": {},
   "outputs": [
    {
     "name": "stdout",
     "output_type": "stream",
     "text": [
      "0\n",
      "10\n",
      "5\n",
      "10\n",
      "-1\n",
      "5\n",
      "0\n"
     ]
    }
   ],
   "source": [
    "print('work work work'.find('work'))\n",
    "print('work work work'.rfind('work')) # this will be the index of the start of the last occurrance\n",
    "print('work work work'.find('work', 2)) # \n",
    "print('work work work'.rfind('work', 3))\n",
    "print('work work'.find('work', 2, 5)) # returns -1, i.e. not found\n",
    "print('work work work work'.find('work', -14))\n",
    "print('work work work'.find('work', 0))\n"
   ]
  },
  {
   "cell_type": "code",
   "execution_count": 19,
   "id": "9ba39db6",
   "metadata": {},
   "outputs": [
    {
     "data": {
      "text/plain": [
       "True"
      ]
     },
     "execution_count": 19,
     "metadata": {},
     "output_type": "execute_result"
    }
   ],
   "source": [
    "'Adrian'.isalnum()"
   ]
  },
  {
   "cell_type": "code",
   "execution_count": 20,
   "id": "ffa16703",
   "metadata": {},
   "outputs": [
    {
     "data": {
      "text/plain": [
       "True"
      ]
     },
     "execution_count": 20,
     "metadata": {},
     "output_type": "execute_result"
    }
   ],
   "source": [
    "'Adrian30'.isalnum()"
   ]
  },
  {
   "cell_type": "code",
   "execution_count": 21,
   "id": "3406f50f",
   "metadata": {},
   "outputs": [
    {
     "data": {
      "text/plain": [
       "False"
      ]
     },
     "execution_count": 21,
     "metadata": {},
     "output_type": "execute_result"
    }
   ],
   "source": [
    "'Adrian 30'.isalnum()"
   ]
  },
  {
   "cell_type": "code",
   "execution_count": 22,
   "id": "d5b97172",
   "metadata": {},
   "outputs": [
    {
     "data": {
      "text/plain": [
       "False"
      ]
     },
     "execution_count": 22,
     "metadata": {},
     "output_type": "execute_result"
    }
   ],
   "source": [
    "'Adrian_30'.isalnum()"
   ]
  },
  {
   "cell_type": "code",
   "execution_count": 23,
   "id": "ff943003",
   "metadata": {},
   "outputs": [
    {
     "data": {
      "text/plain": [
       "True"
      ]
     },
     "execution_count": 23,
     "metadata": {},
     "output_type": "execute_result"
    }
   ],
   "source": [
    "'Adrian'.isalpha()"
   ]
  },
  {
   "cell_type": "code",
   "execution_count": 24,
   "id": "0426e214",
   "metadata": {},
   "outputs": [
    {
     "data": {
      "text/plain": [
       "False"
      ]
     },
     "execution_count": 24,
     "metadata": {},
     "output_type": "execute_result"
    }
   ],
   "source": [
    "'Adrian'.isdigit()"
   ]
  },
  {
   "cell_type": "code",
   "execution_count": 25,
   "id": "aec596ab",
   "metadata": {},
   "outputs": [],
   "source": [
    "# islower()\n",
    "# isupper()\n",
    "# isspace()"
   ]
  }
 ],
 "metadata": {
  "kernelspec": {
   "display_name": "Python 3 (ipykernel)",
   "language": "python",
   "name": "python3"
  },
  "language_info": {
   "codemirror_mode": {
    "name": "ipython",
    "version": 3
   },
   "file_extension": ".py",
   "mimetype": "text/x-python",
   "name": "python",
   "nbconvert_exporter": "python",
   "pygments_lexer": "ipython3",
   "version": "3.9.16"
  }
 },
 "nbformat": 4,
 "nbformat_minor": 5
}
