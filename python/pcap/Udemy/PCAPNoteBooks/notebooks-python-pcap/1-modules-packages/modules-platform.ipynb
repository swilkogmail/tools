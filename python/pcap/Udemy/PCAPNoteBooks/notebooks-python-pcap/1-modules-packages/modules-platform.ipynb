{
 "cells": [
  {
   "attachments": {},
   "cell_type": "markdown",
   "id": "3089e987",
   "metadata": {},
   "source": [
    "All return a string apart from tuple.  System and Platform are about the o/S while machine and processor are about the chip.  Verison is the system verison.  python_implementation is Cpython and python_verison_tuple return the python major, minor and patch version."
   ]
  },
  {
   "cell_type": "code",
   "execution_count": 2,
   "id": "f41ffd38",
   "metadata": {},
   "outputs": [],
   "source": [
    "import platform"
   ]
  },
  {
   "cell_type": "code",
   "execution_count": 3,
   "id": "d4a99bc6",
   "metadata": {},
   "outputs": [
    {
     "data": {
      "text/plain": [
       "'macOS-13.4-arm64-arm-64bit'"
      ]
     },
     "execution_count": 3,
     "metadata": {},
     "output_type": "execute_result"
    }
   ],
   "source": [
    "platform.platform()"
   ]
  },
  {
   "attachments": {},
   "cell_type": "markdown",
   "id": "ae65a64f",
   "metadata": {},
   "source": [
    "The two parameter pass below are Aliased and Terse, i.e. a shortened version of the o/s"
   ]
  },
  {
   "cell_type": "code",
   "execution_count": 4,
   "id": "27df200b",
   "metadata": {},
   "outputs": [
    {
     "data": {
      "text/plain": [
       "'macOS-13.4'"
      ]
     },
     "execution_count": 4,
     "metadata": {},
     "output_type": "execute_result"
    }
   ],
   "source": [
    "platform.platform(True, True)"
   ]
  },
  {
   "cell_type": "code",
   "execution_count": 5,
   "id": "29082fee",
   "metadata": {},
   "outputs": [
    {
     "data": {
      "text/plain": [
       "'arm64'"
      ]
     },
     "execution_count": 5,
     "metadata": {},
     "output_type": "execute_result"
    }
   ],
   "source": [
    "platform.machine()"
   ]
  },
  {
   "cell_type": "code",
   "execution_count": 6,
   "id": "f6047c6a",
   "metadata": {},
   "outputs": [
    {
     "data": {
      "text/plain": [
       "'arm'"
      ]
     },
     "execution_count": 6,
     "metadata": {},
     "output_type": "execute_result"
    }
   ],
   "source": [
    "platform.processor()"
   ]
  },
  {
   "cell_type": "code",
   "execution_count": 7,
   "id": "fdd4eec9",
   "metadata": {},
   "outputs": [
    {
     "data": {
      "text/plain": [
       "'Darwin'"
      ]
     },
     "execution_count": 7,
     "metadata": {},
     "output_type": "execute_result"
    }
   ],
   "source": [
    "platform.system()"
   ]
  },
  {
   "cell_type": "code",
   "execution_count": 8,
   "id": "9393a442",
   "metadata": {},
   "outputs": [
    {
     "data": {
      "text/plain": [
       "'CPython'"
      ]
     },
     "execution_count": 8,
     "metadata": {},
     "output_type": "execute_result"
    }
   ],
   "source": [
    "platform.python_implementation()"
   ]
  },
  {
   "cell_type": "code",
   "execution_count": 9,
   "id": "0eda59b1",
   "metadata": {},
   "outputs": [
    {
     "data": {
      "text/plain": [
       "('3', '9', '16')"
      ]
     },
     "execution_count": 9,
     "metadata": {},
     "output_type": "execute_result"
    }
   ],
   "source": [
    "platform.python_version_tuple()"
   ]
  },
  {
   "attachments": {},
   "cell_type": "markdown",
   "id": "dc768c91",
   "metadata": {},
   "source": [
    "system release version as a single string"
   ]
  },
  {
   "cell_type": "code",
   "execution_count": 10,
   "id": "d53ac254",
   "metadata": {},
   "outputs": [
    {
     "data": {
      "text/plain": [
       "'Darwin Kernel Version 22.5.0: Mon Apr 24 20:52:43 PDT 2023; root:xnu-8796.121.2~5/RELEASE_ARM64_T8112'"
      ]
     },
     "execution_count": 10,
     "metadata": {},
     "output_type": "execute_result"
    }
   ],
   "source": [
    "platform.version()"
   ]
  }
 ],
 "metadata": {
  "kernelspec": {
   "display_name": "Python 3 (ipykernel)",
   "language": "python",
   "name": "python3"
  },
  "language_info": {
   "codemirror_mode": {
    "name": "ipython",
    "version": 3
   },
   "file_extension": ".py",
   "mimetype": "text/x-python",
   "name": "python",
   "nbconvert_exporter": "python",
   "pygments_lexer": "ipython3",
   "version": "3.9.16"
  }
 },
 "nbformat": 4,
 "nbformat_minor": 5
}
