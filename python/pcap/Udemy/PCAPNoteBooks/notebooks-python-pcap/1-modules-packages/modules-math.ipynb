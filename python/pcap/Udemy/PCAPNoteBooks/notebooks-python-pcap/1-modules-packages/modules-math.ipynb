{
 "cells": [
  {
   "cell_type": "code",
   "execution_count": 9,
   "id": "4b4eba86",
   "metadata": {},
   "outputs": [
    {
     "name": "stdout",
     "output_type": "stream",
     "text": [
      "__doc__\t__file__\t__loader__\t__name__\t__package__\t__spec__\tacos\tacosh\tasin\tasinh\tatan\tatan2\tatanh\tceil\tcomb\tcopysign\tcos\tcosh\tdegrees\tdist\te\terf\terfc\texp\texpm1\tfabs\tfactorial\tfloor\tfmod\tfrexp\tfsum\tgamma\tgcd\thypot\tinf\tisclose\tisfinite\tisinf\tisnan\tisqrt\tlcm\tldexp\tlgamma\tlog\tlog10\tlog1p\tlog2\tmodf\tnan\tnextafter\tperm\tpi\tpow\tprod\tradians\tremainder\tsin\tsinh\tsqrt\ttan\ttanh\ttau\ttrunc\tulp\t"
     ]
    }
   ],
   "source": [
    "import math\n",
    "\n",
    "for name in dir(math):\n",
    "    print(name, end='\\t')"
   ]
  },
  {
   "cell_type": "code",
   "execution_count": 10,
   "id": "4a3ba348",
   "metadata": {},
   "outputs": [
    {
     "name": "stdout",
     "output_type": "stream",
     "text": [
      "4\n",
      "3\n",
      "3\n"
     ]
    }
   ],
   "source": [
    "# ceil(), floor(), trunc()\n",
    "print(math.ceil(3.6))\n",
    "print(math.floor(3.6))\n",
    "print(math.trunc(3.6))"
   ]
  },
  {
   "cell_type": "code",
   "execution_count": 11,
   "id": "bfe3ef32",
   "metadata": {},
   "outputs": [
    {
     "name": "stdout",
     "output_type": "stream",
     "text": [
      "4\n",
      "4\n",
      "4\n",
      "3\n",
      "-5\n"
     ]
    }
   ],
   "source": [
    "# ceil()\n",
    "print(math.ceil(3.1))\n",
    "print(math.ceil(3.505))\n",
    "print(math.ceil(3.945))\n",
    "print(math.ceil(3.0))\n",
    "print(math.ceil(-5.4))"
   ]
  },
  {
   "cell_type": "code",
   "execution_count": 12,
   "id": "bfd24e58",
   "metadata": {},
   "outputs": [
    {
     "name": "stdout",
     "output_type": "stream",
     "text": [
      "3\n",
      "3\n",
      "3\n",
      "3\n",
      "-6\n"
     ]
    }
   ],
   "source": [
    "# floor()\n",
    "print(math.floor(3.1))\n",
    "print(math.floor(3.505))\n",
    "print(math.floor(3.945))\n",
    "print(math.floor(3.0))\n",
    "print(math.floor(-5.4))"
   ]
  },
  {
   "cell_type": "code",
   "execution_count": 13,
   "id": "575f336d",
   "metadata": {},
   "outputs": [
    {
     "name": "stdout",
     "output_type": "stream",
     "text": [
      "3\n",
      "3\n",
      "3\n",
      "3\n",
      "-5\n"
     ]
    }
   ],
   "source": [
    "# trunc()\n",
    "print(math.trunc(3.1))\n",
    "print(math.trunc(3.505))\n",
    "print(math.trunc(3.945))\n",
    "print(math.trunc(3.0))\n",
    "print(math.trunc(-5.4))"
   ]
  },
  {
   "attachments": {},
   "cell_type": "markdown",
   "id": "f19a5957",
   "metadata": {},
   "source": [
    "factorial is the multiplication of all positive integers less than or equal to the given number"
   ]
  },
  {
   "cell_type": "code",
   "execution_count": 18,
   "id": "6d8c296b",
   "metadata": {},
   "outputs": [
    {
     "name": "stdout",
     "output_type": "stream",
     "text": [
      "6\n",
      "24\n",
      "120\n",
      "720\n"
     ]
    }
   ],
   "source": [
    "# factorial()\n",
    "# 3! = 3 * 2 * 1 = 6\n",
    "# 4! = 4 * 3 * 2 * 1 = 24\n",
    "print(math.factorial(3))\n",
    "print(math.factorial(4))\n",
    "print(math.factorial(5))\n",
    "print(math.factorial(6))\n",
    "# print(math.factorial(3.2))  only accpets interger values"
   ]
  },
  {
   "attachments": {},
   "cell_type": "markdown",
   "id": "64dbf551",
   "metadata": {},
   "source": [
    "sqrt returns a float.  It can except an ingeter or a float"
   ]
  },
  {
   "cell_type": "code",
   "execution_count": 39,
   "id": "ee28c0fd",
   "metadata": {},
   "outputs": [
    {
     "name": "stdout",
     "output_type": "stream",
     "text": [
      "1.0\n",
      "0.0\n",
      "0.7071067811865476\n",
      "6.4031242374328485\n",
      "10.0\n"
     ]
    }
   ],
   "source": [
    "# sqrt()\n",
    "print(math.sqrt(1))\n",
    "print(math.sqrt(0))\n",
    "print(math.sqrt(0.5))\n",
    "# print(math.sqrt(-1)) raises ValueError: math domain error\n",
    "# print(math.sqrt(-2)) raises ValueError: math domain error\n",
    "print(math.sqrt(41))\n",
    "print(math.sqrt(100))"
   ]
  },
  {
   "attachments": {},
   "cell_type": "markdown",
   "id": "9fc8edb1",
   "metadata": {},
   "source": [
    "hypot is the square root of the sums of the squares of the shorter sides."
   ]
  },
  {
   "cell_type": "code",
   "execution_count": 41,
   "id": "5519ef68",
   "metadata": {},
   "outputs": [
    {
     "name": "stdout",
     "output_type": "stream",
     "text": [
      "5.0\n",
      "6.4031242374328485\n"
     ]
    }
   ],
   "source": [
    "# hypot()\n",
    "print(math.hypot(3, 4)) # sqrt of (9 + 16) = 5\n",
    "print(math.hypot(4, 5)) # sqrt of (16 + 25) = 5"
   ]
  }
 ],
 "metadata": {
  "kernelspec": {
   "display_name": "Python 3 (ipykernel)",
   "language": "python",
   "name": "python3"
  },
  "language_info": {
   "codemirror_mode": {
    "name": "ipython",
    "version": 3
   },
   "file_extension": ".py",
   "mimetype": "text/x-python",
   "name": "python",
   "nbconvert_exporter": "python",
   "pygments_lexer": "ipython3",
   "version": "3.9.16"
  }
 },
 "nbformat": 4,
 "nbformat_minor": 5
}
